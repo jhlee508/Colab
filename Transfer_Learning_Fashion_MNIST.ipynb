{
  "nbformat": 4,
  "nbformat_minor": 0,
  "metadata": {
    "colab": {
      "name": "Transfer_Learning_Fashion_MNIST.ipynb",
      "provenance": [],
      "collapsed_sections": [],
      "authorship_tag": "ABX9TyPKJrlK3qGTjAw15/r22ZkH",
      "include_colab_link": true
    },
    "kernelspec": {
      "name": "python3",
      "display_name": "Python 3"
    },
    "accelerator": "GPU"
  },
  "cells": [
    {
      "cell_type": "markdown",
      "metadata": {
        "id": "view-in-github",
        "colab_type": "text"
      },
      "source": [
        "<a href=\"https://colab.research.google.com/github/jhlee508/Colab/blob/master/Transfer_Learning_Fashion_MNIST.ipynb\" target=\"_parent\"><img src=\"https://colab.research.google.com/assets/colab-badge.svg\" alt=\"Open In Colab\"/></a>"
      ]
    },
    {
      "cell_type": "markdown",
      "metadata": {
        "id": "2Wjxtu4XWQTy"
      },
      "source": [
        "# 라이브러리 불러오기"
      ]
    },
    {
      "cell_type": "code",
      "metadata": {
        "id": "_K9BXS26mnFM"
      },
      "source": [
        "import matplotlib.pyplot as plt\r\n",
        "import pandas as pd\r\n",
        "import numpy as np\r\n",
        "from tensorflow import keras\r\n",
        "from sklearn.model_selection import train_test_split"
      ],
      "execution_count": 169,
      "outputs": []
    },
    {
      "cell_type": "markdown",
      "metadata": {
        "id": "RvRNeOaDWS6n"
      },
      "source": [
        "# 데이터 불러오기"
      ]
    },
    {
      "cell_type": "code",
      "metadata": {
        "id": "Vi2sIXQA0iwt"
      },
      "source": [
        "fashion_mnist = keras.datasets.fashion_mnist\r\n",
        "\r\n",
        "(X_train, y_train), (X_test, y_test) = fashion_mnist.load_data()"
      ],
      "execution_count": 170,
      "outputs": []
    },
    {
      "cell_type": "code",
      "metadata": {
        "colab": {
          "base_uri": "https://localhost:8080/"
        },
        "id": "VX39NpiHSU9O",
        "outputId": "170c0c66-8468-44eb-e540-1b4eb5fb1ab3"
      },
      "source": [
        "X_train.shape, y_train.shape, X_test.shape, y_test.shape"
      ],
      "execution_count": 171,
      "outputs": [
        {
          "output_type": "execute_result",
          "data": {
            "text/plain": [
              "((60000, 28, 28), (60000,), (10000, 28, 28), (10000,))"
            ]
          },
          "metadata": {
            "tags": []
          },
          "execution_count": 171
        }
      ]
    },
    {
      "cell_type": "markdown",
      "metadata": {
        "id": "jwIUWrExWUiE"
      },
      "source": [
        "# 데이터 전처리"
      ]
    },
    {
      "cell_type": "code",
      "metadata": {
        "id": "zF_X_sbgVloX"
      },
      "source": [
        "# Normalization\r\n",
        "X_train = X_train.astype(\"float64\")/255\r\n",
        "X_test = X_test.astype(\"float64\")/255"
      ],
      "execution_count": 172,
      "outputs": []
    },
    {
      "cell_type": "code",
      "metadata": {
        "id": "-Z7dpMCF1M2D"
      },
      "source": [
        "# label 0과 1을 제외한 모든 데이터셋\r\n",
        "X_train_A = X_train[(y_train >= 2)] \r\n",
        "y_train_A = y_train[(y_train >= 2)]\r\n",
        "X_test_A = X_test[(y_test >= 2)]\r\n",
        "y_test_A = y_test[(y_test >= 2)]"
      ],
      "execution_count": 173,
      "outputs": []
    },
    {
      "cell_type": "code",
      "metadata": {
        "colab": {
          "base_uri": "https://localhost:8080/"
        },
        "id": "T8uqkObeABU3",
        "outputId": "f80b8826-4ffe-459d-fe20-68e8c89972da"
      },
      "source": [
        "X_train_A.shape, y_train_A.shape, X_test_A.shape, y_test_A.shape"
      ],
      "execution_count": 174,
      "outputs": [
        {
          "output_type": "execute_result",
          "data": {
            "text/plain": [
              "((48000, 28, 28), (48000,), (8000, 28, 28), (8000,))"
            ]
          },
          "metadata": {
            "tags": []
          },
          "execution_count": 174
        }
      ]
    },
    {
      "cell_type": "code",
      "metadata": {
        "id": "x1lI9v6ZQo4L"
      },
      "source": [
        "# label 0과 1만을 가진 데이터들 중 앞에서 200개만 가진 데이터셋\r\n",
        "X_train_B = X_train[(y_train == 0) | (y_train == 1)]\r\n",
        "y_train_B = y_train[(y_train == 0) | (y_train == 1)]\r\n",
        "\r\n",
        "X_test_B = X_test[(y_test == 0) | (y_test == 1)]\r\n",
        "y_test_B = y_test[(y_test == 0) | (y_test == 1)]"
      ],
      "execution_count": 175,
      "outputs": []
    },
    {
      "cell_type": "code",
      "metadata": {
        "id": "Nzia7IrMAQUG",
        "colab": {
          "base_uri": "https://localhost:8080/"
        },
        "outputId": "26aaa775-c9f5-467e-99f7-0f2f6bec35a2"
      },
      "source": [
        "X_train_B.shape, y_train_B.shape, X_test_B.shape, y_test_B.shape"
      ],
      "execution_count": 176,
      "outputs": [
        {
          "output_type": "execute_result",
          "data": {
            "text/plain": [
              "((12000, 28, 28), (12000,), (2000, 28, 28), (2000,))"
            ]
          },
          "metadata": {
            "tags": []
          },
          "execution_count": 176
        }
      ]
    },
    {
      "cell_type": "code",
      "metadata": {
        "id": "2UB1KhRf7jQi"
      },
      "source": [
        "# train valid split\r\n",
        "X_train_A, X_valid_A, y_train_A, y_valid_A = train_test_split(X_train_A, y_train_A, test_size=1/6, random_state = 42)\r\n",
        "X_train_B, X_valid_B, y_train_B, y_valid_B = train_test_split(X_train_B, y_train_B, test_size=1/6, random_state = 42)"
      ],
      "execution_count": 177,
      "outputs": []
    },
    {
      "cell_type": "code",
      "metadata": {
        "colab": {
          "base_uri": "https://localhost:8080/"
        },
        "id": "BOKSrZKB8GHk",
        "outputId": "35045824-6b11-495e-a9f5-1c81419f1440"
      },
      "source": [
        "X_train_A.shape, y_train_A.shape, X_valid_A.shape, y_valid_A.shape, X_test_A.shape, y_test_A.shape"
      ],
      "execution_count": 178,
      "outputs": [
        {
          "output_type": "execute_result",
          "data": {
            "text/plain": [
              "((40000, 28, 28), (40000,), (8000, 28, 28), (8000,), (8000, 28, 28), (8000,))"
            ]
          },
          "metadata": {
            "tags": []
          },
          "execution_count": 178
        }
      ]
    },
    {
      "cell_type": "code",
      "metadata": {
        "colab": {
          "base_uri": "https://localhost:8080/"
        },
        "id": "fhLvHYdGhphe",
        "outputId": "a2c8b318-3153-4b82-b9d1-1d57334093fa"
      },
      "source": [
        "X_train_B.shape, y_train_B.shape, X_valid_B.shape, y_valid_B.shape"
      ],
      "execution_count": 179,
      "outputs": [
        {
          "output_type": "execute_result",
          "data": {
            "text/plain": [
              "((10000, 28, 28), (10000,), (2000, 28, 28), (2000,))"
            ]
          },
          "metadata": {
            "tags": []
          },
          "execution_count": 179
        }
      ]
    },
    {
      "cell_type": "code",
      "metadata": {
        "id": "jYHhmtzoUMu-"
      },
      "source": [
        "X_train_B = X_train_B[:200]\r\n",
        "y_train_B = y_train_B[:200]"
      ],
      "execution_count": 180,
      "outputs": []
    },
    {
      "cell_type": "code",
      "metadata": {
        "colab": {
          "base_uri": "https://localhost:8080/"
        },
        "id": "Pkgj8JH_h8Dj",
        "outputId": "c722c7c2-ce50-4c97-a4d1-bb247b3e8ff1"
      },
      "source": [
        "X_train_B.shape, y_train_B.shape, X_valid_B.shape, y_valid_B.shape, X_test_B.shape, y_test_B.shape"
      ],
      "execution_count": 181,
      "outputs": [
        {
          "output_type": "execute_result",
          "data": {
            "text/plain": [
              "((200, 28, 28), (200,), (2000, 28, 28), (2000,), (2000, 28, 28), (2000,))"
            ]
          },
          "metadata": {
            "tags": []
          },
          "execution_count": 181
        }
      ]
    },
    {
      "cell_type": "code",
      "metadata": {
        "colab": {
          "base_uri": "https://localhost:8080/"
        },
        "id": "zAU3KVQPYkoC",
        "outputId": "440e6d88-3925-4b0e-8d64-0f563e748818"
      },
      "source": [
        "X_train_A = X_train_A.reshape(X_train_A.shape[0], 28, 28, 1)\r\n",
        "X_valid_A = X_valid_A.reshape(X_valid_A.shape[0], 28, 28, 1)\r\n",
        "X_test_A = X_test_A.reshape(X_test_A.shape[0], 28, 28, 1)\r\n",
        "\r\n",
        "X_train_A.shape, X_valid_A.shape, X_test_A.shape"
      ],
      "execution_count": 182,
      "outputs": [
        {
          "output_type": "execute_result",
          "data": {
            "text/plain": [
              "((40000, 28, 28, 1), (8000, 28, 28, 1), (8000, 28, 28, 1))"
            ]
          },
          "metadata": {
            "tags": []
          },
          "execution_count": 182
        }
      ]
    },
    {
      "cell_type": "code",
      "metadata": {
        "colab": {
          "base_uri": "https://localhost:8080/"
        },
        "id": "vEWVwWMyiO_R",
        "outputId": "c18c91ea-e486-4656-b909-80d4734831ca"
      },
      "source": [
        "X_train_B = X_train_B.reshape(X_train_B.shape[0], 28, 28, 1)\r\n",
        "X_valid_B = X_valid_B.reshape(X_valid_B.shape[0], 28, 28, 1)\r\n",
        "X_test_B = X_test_B.reshape(X_test_B.shape[0], 28, 28, 1)\r\n",
        "\r\n",
        "X_train_B.shape, X_valid_B.shape, X_test_B.shape"
      ],
      "execution_count": 183,
      "outputs": [
        {
          "output_type": "execute_result",
          "data": {
            "text/plain": [
              "((200, 28, 28, 1), (2000, 28, 28, 1), (2000, 28, 28, 1))"
            ]
          },
          "metadata": {
            "tags": []
          },
          "execution_count": 183
        }
      ]
    },
    {
      "cell_type": "code",
      "metadata": {
        "id": "5IBQD3jreDBQ"
      },
      "source": [
        "# Label 값 2~9에서 0~7로 바꾸기\r\n",
        "y_train_A = y_train_A - 2\r\n",
        "y_valid_A = y_valid_A - 2\r\n",
        "y_test_A = y_test_A - 2"
      ],
      "execution_count": 184,
      "outputs": []
    },
    {
      "cell_type": "markdown",
      "metadata": {
        "id": "YxRSypusV-cT"
      },
      "source": [
        "# X_train_A 학습(다중 분류)"
      ]
    },
    {
      "cell_type": "code",
      "metadata": {
        "id": "0OsBwMjDWPsq"
      },
      "source": [
        "# CNN 모델 라이브러리\r\n",
        "from keras.layers import Dense, Conv2D, Dropout, Flatten, MaxPooling2D\r\n",
        "from keras.utils import to_categorical\r\n",
        "from keras.models import Sequential"
      ],
      "execution_count": 185,
      "outputs": []
    },
    {
      "cell_type": "code",
      "metadata": {
        "colab": {
          "base_uri": "https://localhost:8080/"
        },
        "id": "izT_zJrsWgmf",
        "outputId": "57914a8b-6f39-4b18-a841-d98298947157"
      },
      "source": [
        "# 모델 define\r\n",
        "model = Sequential()\r\n",
        "\r\n",
        "model.add(Conv2D(32, kernel_size =(3, 3), input_shape = (28, 28, 1), activation='relu'))\r\n",
        "model.add(Conv2D(64, (3, 3), activation='relu'))\r\n",
        "model.add(MaxPooling2D(pool_size = 2))\r\n",
        "model.add(Dropout(0.25))\r\n",
        "model.add(Flatten())\r\n",
        "model.add(Dense(128, activation='relu'))\r\n",
        "model.add(Dropout(0.5))\r\n",
        "model.add(Dense(8, activation = 'softmax'))\r\n",
        "\r\n",
        "model.summary()"
      ],
      "execution_count": 186,
      "outputs": [
        {
          "output_type": "stream",
          "text": [
            "Model: \"sequential_12\"\n",
            "_________________________________________________________________\n",
            "Layer (type)                 Output Shape              Param #   \n",
            "=================================================================\n",
            "conv2d_18 (Conv2D)           (None, 26, 26, 32)        320       \n",
            "_________________________________________________________________\n",
            "conv2d_19 (Conv2D)           (None, 24, 24, 64)        18496     \n",
            "_________________________________________________________________\n",
            "max_pooling2d_9 (MaxPooling2 (None, 12, 12, 64)        0         \n",
            "_________________________________________________________________\n",
            "dropout_15 (Dropout)         (None, 12, 12, 64)        0         \n",
            "_________________________________________________________________\n",
            "flatten_7 (Flatten)          (None, 9216)              0         \n",
            "_________________________________________________________________\n",
            "dense_18 (Dense)             (None, 128)               1179776   \n",
            "_________________________________________________________________\n",
            "dropout_16 (Dropout)         (None, 128)               0         \n",
            "_________________________________________________________________\n",
            "dense_19 (Dense)             (None, 8)                 1032      \n",
            "=================================================================\n",
            "Total params: 1,199,624\n",
            "Trainable params: 1,199,624\n",
            "Non-trainable params: 0\n",
            "_________________________________________________________________\n"
          ],
          "name": "stdout"
        }
      ]
    },
    {
      "cell_type": "code",
      "metadata": {
        "id": "hnHrIbHjWq4O"
      },
      "source": [
        "model.compile(loss='sparse_categorical_crossentropy', optimizer='adam', metrics=['accuracy'])"
      ],
      "execution_count": 187,
      "outputs": []
    },
    {
      "cell_type": "code",
      "metadata": {
        "colab": {
          "base_uri": "https://localhost:8080/"
        },
        "id": "2YSoBerlWu2E",
        "outputId": "761b38a5-23f3-445e-adb9-b6aa5b034c17"
      },
      "source": [
        "history = model.fit(X_train_A, y_train_A,\r\n",
        "          batch_size=128,\r\n",
        "          epochs=20,\r\n",
        "          verbose=1, \r\n",
        "          validation_data=(X_valid_A, y_valid_A))"
      ],
      "execution_count": 188,
      "outputs": [
        {
          "output_type": "stream",
          "text": [
            "Epoch 1/20\n",
            "313/313 [==============================] - 5s 15ms/step - loss: 0.7305 - accuracy: 0.7295 - val_loss: 0.2953 - val_accuracy: 0.8950\n",
            "Epoch 2/20\n",
            "313/313 [==============================] - 5s 15ms/step - loss: 0.3335 - accuracy: 0.8797 - val_loss: 0.2480 - val_accuracy: 0.9106\n",
            "Epoch 3/20\n",
            "313/313 [==============================] - 5s 14ms/step - loss: 0.2853 - accuracy: 0.8986 - val_loss: 0.2253 - val_accuracy: 0.9211\n",
            "Epoch 4/20\n",
            "313/313 [==============================] - 5s 15ms/step - loss: 0.2442 - accuracy: 0.9120 - val_loss: 0.2226 - val_accuracy: 0.9235\n",
            "Epoch 5/20\n",
            "313/313 [==============================] - 5s 14ms/step - loss: 0.2303 - accuracy: 0.9166 - val_loss: 0.1959 - val_accuracy: 0.9295\n",
            "Epoch 6/20\n",
            "313/313 [==============================] - 5s 14ms/step - loss: 0.2074 - accuracy: 0.9246 - val_loss: 0.1897 - val_accuracy: 0.9330\n",
            "Epoch 7/20\n",
            "313/313 [==============================] - 5s 14ms/step - loss: 0.1889 - accuracy: 0.9317 - val_loss: 0.1876 - val_accuracy: 0.9300\n",
            "Epoch 8/20\n",
            "313/313 [==============================] - 5s 14ms/step - loss: 0.1741 - accuracy: 0.9351 - val_loss: 0.1852 - val_accuracy: 0.9380\n",
            "Epoch 9/20\n",
            "313/313 [==============================] - 5s 14ms/step - loss: 0.1553 - accuracy: 0.9427 - val_loss: 0.1852 - val_accuracy: 0.9376\n",
            "Epoch 10/20\n",
            "313/313 [==============================] - 5s 15ms/step - loss: 0.1464 - accuracy: 0.9463 - val_loss: 0.1791 - val_accuracy: 0.9386\n",
            "Epoch 11/20\n",
            "313/313 [==============================] - 5s 15ms/step - loss: 0.1342 - accuracy: 0.9503 - val_loss: 0.1675 - val_accuracy: 0.9433\n",
            "Epoch 12/20\n",
            "313/313 [==============================] - 5s 14ms/step - loss: 0.1244 - accuracy: 0.9525 - val_loss: 0.1706 - val_accuracy: 0.9454\n",
            "Epoch 13/20\n",
            "313/313 [==============================] - 5s 14ms/step - loss: 0.1166 - accuracy: 0.9563 - val_loss: 0.1707 - val_accuracy: 0.9440\n",
            "Epoch 14/20\n",
            "313/313 [==============================] - 5s 15ms/step - loss: 0.1085 - accuracy: 0.9594 - val_loss: 0.1766 - val_accuracy: 0.9431\n",
            "Epoch 15/20\n",
            "313/313 [==============================] - 5s 15ms/step - loss: 0.1043 - accuracy: 0.9621 - val_loss: 0.1811 - val_accuracy: 0.9451\n",
            "Epoch 16/20\n",
            "313/313 [==============================] - 5s 14ms/step - loss: 0.0986 - accuracy: 0.9631 - val_loss: 0.1917 - val_accuracy: 0.9414\n",
            "Epoch 17/20\n",
            "313/313 [==============================] - 5s 14ms/step - loss: 0.0931 - accuracy: 0.9651 - val_loss: 0.1763 - val_accuracy: 0.9460\n",
            "Epoch 18/20\n",
            "313/313 [==============================] - 5s 15ms/step - loss: 0.0903 - accuracy: 0.9642 - val_loss: 0.1814 - val_accuracy: 0.9470\n",
            "Epoch 19/20\n",
            "313/313 [==============================] - 5s 14ms/step - loss: 0.0792 - accuracy: 0.9704 - val_loss: 0.1916 - val_accuracy: 0.9423\n",
            "Epoch 20/20\n",
            "313/313 [==============================] - 5s 15ms/step - loss: 0.0815 - accuracy: 0.9694 - val_loss: 0.1888 - val_accuracy: 0.9438\n"
          ],
          "name": "stdout"
        }
      ]
    },
    {
      "cell_type": "code",
      "metadata": {
        "colab": {
          "base_uri": "https://localhost:8080/",
          "height": 279
        },
        "id": "ITZQF4F_W3vE",
        "outputId": "9582c015-7e42-4af2-d38e-3c56c27087b1"
      },
      "source": [
        "# 모델 학습 과정\r\n",
        "fig, loss_ax = plt.subplots()\r\n",
        "acc_ax = loss_ax.twinx()\r\n",
        "\r\n",
        "loss_ax.plot(history.history['loss'], 'y', label='train loss')\r\n",
        "loss_ax.plot(history.history['val_loss'], 'r', label='val loss')\r\n",
        "\r\n",
        "acc_ax.plot(history.history['accuracy'], 'b', label='train acc')\r\n",
        "acc_ax.plot(history.history['val_accuracy'], 'g', label='val acc')\r\n",
        "\r\n",
        "loss_ax.set_xlabel('epoch')\r\n",
        "loss_ax.set_ylabel('loss')\r\n",
        "acc_ax.set_ylabel('accuracy')\r\n",
        "\r\n",
        "loss_ax.legend(loc='upper left')\r\n",
        "acc_ax.legend(loc='lower left')\r\n",
        "\r\n",
        "plt.show()"
      ],
      "execution_count": 189,
      "outputs": [
        {
          "output_type": "display_data",
          "data": {
            "image/png": "[encoded data removed]",
            "text/plain": [
              "<Figure size 432x288 with 2 Axes>"
            ]
          },
          "metadata": {
            "tags": [],
            "needs_background": "light"
          }
        }
      ]
    },
    {
      "cell_type": "code",
      "metadata": {
        "colab": {
          "base_uri": "https://localhost:8080/"
        },
        "id": "efpdVqDgW5TT",
        "outputId": "6f6efb43-1d26-4fe7-ff12-942cf766d0c6"
      },
      "source": [
        "score = model.evaluate(X_test_A, y_test_A, verbose = 0)\r\n",
        "print('Test loss:', score[0])\r\n",
        "print('Test accuracy:', score[1])"
      ],
      "execution_count": 190,
      "outputs": [
        {
          "output_type": "stream",
          "text": [
            "Test loss: 0.22115308046340942\n",
            "Test accuracy: 0.9346250295639038\n"
          ],
          "name": "stdout"
        }
      ]
    },
    {
      "cell_type": "code",
      "metadata": {
        "id": "6CmcnJagcHMt"
      },
      "source": [
        "# 모델 저장하기\r\n",
        "model.save('fashion_mnist_model.h5')"
      ],
      "execution_count": 191,
      "outputs": []
    },
    {
      "cell_type": "markdown",
      "metadata": {
        "id": "gSnDFOgrWFI2"
      },
      "source": [
        "# X_train_B 전이학습(이진 분류) "
      ]
    },
    {
      "cell_type": "code",
      "metadata": {
        "colab": {
          "base_uri": "https://localhost:8080/"
        },
        "id": "csTrMfzLhDve",
        "outputId": "b4bb1850-8c3d-4faf-9b60-453cb275bb16"
      },
      "source": [
        "X_train_B = X_train_B.reshape(X_train_B.shape[0], 28, 28, 1)\r\n",
        "X_valid_B = X_valid_B.reshape(X_valid_B.shape[0], 28, 28, 1)\r\n",
        "X_test_B = X_test_B.reshape(X_test_B.shape[0], 28, 28, 1)\r\n",
        "\r\n",
        "X_train_B.shape, X_valid_B.shape, X_test_B.shape"
      ],
      "execution_count": 260,
      "outputs": [
        {
          "output_type": "execute_result",
          "data": {
            "text/plain": [
              "((200, 28, 28, 1), (2000, 28, 28, 1), (2000, 28, 28, 1))"
            ]
          },
          "metadata": {
            "tags": []
          },
          "execution_count": 260
        }
      ]
    },
    {
      "cell_type": "code",
      "metadata": {
        "colab": {
          "base_uri": "https://localhost:8080/"
        },
        "id": "g8LOcQnOgoLw",
        "outputId": "56457110-9fcb-4901-9810-62e6342b2c65"
      },
      "source": [
        "# 모델 define\r\n",
        "model = Sequential()\r\n",
        "\r\n",
        "model.add(Conv2D(32, kernel_size =(3, 3), input_shape = (28, 28, 1), activation='relu'))\r\n",
        "model.add(Conv2D(64, (3, 3), activation='relu'))\r\n",
        "model.add(MaxPooling2D(pool_size = 2))\r\n",
        "model.add(Dropout(0.25))\r\n",
        "model.add(Flatten())\r\n",
        "model.add(Dense(1, activation = 'sigmoid'))\r\n",
        "\r\n",
        "model.summary()"
      ],
      "execution_count": 261,
      "outputs": [
        {
          "output_type": "stream",
          "text": [
            "Model: \"sequential_25\"\n",
            "_________________________________________________________________\n",
            "Layer (type)                 Output Shape              Param #   \n",
            "=================================================================\n",
            "conv2d_30 (Conv2D)           (None, 26, 26, 32)        320       \n",
            "_________________________________________________________________\n",
            "conv2d_31 (Conv2D)           (None, 24, 24, 64)        18496     \n",
            "_________________________________________________________________\n",
            "max_pooling2d_15 (MaxPooling (None, 12, 12, 64)        0         \n",
            "_________________________________________________________________\n",
            "dropout_22 (Dropout)         (None, 12, 12, 64)        0         \n",
            "_________________________________________________________________\n",
            "flatten_17 (Flatten)         (None, 9216)              0         \n",
            "_________________________________________________________________\n",
            "dense_36 (Dense)             (None, 1)                 9217      \n",
            "=================================================================\n",
            "Total params: 28,033\n",
            "Trainable params: 28,033\n",
            "Non-trainable params: 0\n",
            "_________________________________________________________________\n"
          ],
          "name": "stdout"
        }
      ]
    },
    {
      "cell_type": "code",
      "metadata": {
        "id": "vYp_dsSJj_Xd"
      },
      "source": [
        "model.compile(loss='binary_crossentropy', optimizer='adam', metrics=['accuracy'])"
      ],
      "execution_count": 262,
      "outputs": []
    },
    {
      "cell_type": "code",
      "metadata": {
        "colab": {
          "base_uri": "https://localhost:8080/"
        },
        "id": "DrYPScF8kCUX",
        "outputId": "911563ed-7b41-4b80-f9b1-38c150e035d9"
      },
      "source": [
        "history = model.fit(X_train_B, y_train_B,\r\n",
        "          batch_size=128,\r\n",
        "          epochs=20,\r\n",
        "          verbose=1, \r\n",
        "          validation_data=(X_valid_B, y_valid_B))"
      ],
      "execution_count": 263,
      "outputs": [
        {
          "output_type": "stream",
          "text": [
            "Epoch 1/20\n",
            "2/2 [==============================] - 1s 291ms/step - loss: 0.6907 - accuracy: 0.5167 - val_loss: 0.6281 - val_accuracy: 0.5095\n",
            "Epoch 2/20\n",
            "2/2 [==============================] - 0s 130ms/step - loss: 0.6119 - accuracy: 0.5723 - val_loss: 0.5535 - val_accuracy: 0.7995\n",
            "Epoch 3/20\n",
            "2/2 [==============================] - 0s 129ms/step - loss: 0.5278 - accuracy: 0.8190 - val_loss: 0.4549 - val_accuracy: 0.9345\n",
            "Epoch 4/20\n",
            "2/2 [==============================] - 0s 131ms/step - loss: 0.4401 - accuracy: 0.9451 - val_loss: 0.3503 - val_accuracy: 0.9485\n",
            "Epoch 5/20\n",
            "2/2 [==============================] - 0s 133ms/step - loss: 0.3370 - accuracy: 0.9544 - val_loss: 0.2694 - val_accuracy: 0.9445\n",
            "Epoch 6/20\n",
            "2/2 [==============================] - 0s 137ms/step - loss: 0.2605 - accuracy: 0.9444 - val_loss: 0.2192 - val_accuracy: 0.9460\n",
            "Epoch 7/20\n",
            "2/2 [==============================] - 0s 139ms/step - loss: 0.2095 - accuracy: 0.9503 - val_loss: 0.1968 - val_accuracy: 0.9470\n",
            "Epoch 8/20\n",
            "2/2 [==============================] - 0s 137ms/step - loss: 0.1770 - accuracy: 0.9510 - val_loss: 0.1872 - val_accuracy: 0.9485\n",
            "Epoch 9/20\n",
            "2/2 [==============================] - 0s 137ms/step - loss: 0.1710 - accuracy: 0.9484 - val_loss: 0.1814 - val_accuracy: 0.9495\n",
            "Epoch 10/20\n",
            "2/2 [==============================] - 0s 140ms/step - loss: 0.1719 - accuracy: 0.9492 - val_loss: 0.1790 - val_accuracy: 0.9520\n",
            "Epoch 11/20\n",
            "2/2 [==============================] - 0s 143ms/step - loss: 0.1584 - accuracy: 0.9510 - val_loss: 0.1771 - val_accuracy: 0.9545\n",
            "Epoch 12/20\n",
            "2/2 [==============================] - 0s 137ms/step - loss: 0.1413 - accuracy: 0.9729 - val_loss: 0.1707 - val_accuracy: 0.9555\n",
            "Epoch 13/20\n",
            "2/2 [==============================] - 0s 139ms/step - loss: 0.1279 - accuracy: 0.9696 - val_loss: 0.1522 - val_accuracy: 0.9570\n",
            "Epoch 14/20\n",
            "2/2 [==============================] - 0s 141ms/step - loss: 0.1288 - accuracy: 0.9689 - val_loss: 0.1355 - val_accuracy: 0.9565\n",
            "Epoch 15/20\n",
            "2/2 [==============================] - 0s 139ms/step - loss: 0.1106 - accuracy: 0.9689 - val_loss: 0.1230 - val_accuracy: 0.9585\n",
            "Epoch 16/20\n",
            "2/2 [==============================] - 0s 138ms/step - loss: 0.0913 - accuracy: 0.9722 - val_loss: 0.1152 - val_accuracy: 0.9615\n",
            "Epoch 17/20\n",
            "2/2 [==============================] - 0s 142ms/step - loss: 0.0774 - accuracy: 0.9755 - val_loss: 0.1055 - val_accuracy: 0.9630\n",
            "Epoch 18/20\n",
            "2/2 [==============================] - 0s 136ms/step - loss: 0.0843 - accuracy: 0.9763 - val_loss: 0.0922 - val_accuracy: 0.9640\n",
            "Epoch 19/20\n",
            "2/2 [==============================] - 0s 137ms/step - loss: 0.0598 - accuracy: 0.9815 - val_loss: 0.0820 - val_accuracy: 0.9660\n",
            "Epoch 20/20\n",
            "2/2 [==============================] - 0s 133ms/step - loss: 0.0461 - accuracy: 0.9933 - val_loss: 0.0767 - val_accuracy: 0.9675\n"
          ],
          "name": "stdout"
        }
      ]
    },
    {
      "cell_type": "code",
      "metadata": {
        "id": "9GmyffSDg3s_"
      },
      "source": [
        "# 모델 불러오기\r\n",
        "from keras.models import load_model\r\n",
        "model_A = load_model('fashion_mnist_model.h5')"
      ],
      "execution_count": 264,
      "outputs": []
    },
    {
      "cell_type": "code",
      "metadata": {
        "colab": {
          "base_uri": "https://localhost:8080/"
        },
        "id": "MlhdbIhUlAwu",
        "outputId": "39701964-7f1b-4ab3-9fec-c132495705cc"
      },
      "source": [
        "model_B_on_A = Sequential(model_A.layers[:-1])\r\n",
        "# model_B_on_A.add(Flatten())\r\n",
        "# model_B_on_A.add(Dense(128, activation='relu'))\r\n",
        "model_B_on_A.add(Dense(1, 'sigmoid'))\r\n",
        "\r\n",
        "model_B_on_A.summary()"
      ],
      "execution_count": 266,
      "outputs": [
        {
          "output_type": "stream",
          "text": [
            "Model: \"sequential_27\"\n",
            "_________________________________________________________________\n",
            "Layer (type)                 Output Shape              Param #   \n",
            "=================================================================\n",
            "conv2d_18 (Conv2D)           (None, 26, 26, 32)        320       \n",
            "_________________________________________________________________\n",
            "conv2d_19 (Conv2D)           (None, 24, 24, 64)        18496     \n",
            "_________________________________________________________________\n",
            "max_pooling2d_9 (MaxPooling2 (None, 12, 12, 64)        0         \n",
            "_________________________________________________________________\n",
            "dropout_15 (Dropout)         (None, 12, 12, 64)        0         \n",
            "_________________________________________________________________\n",
            "flatten_7 (Flatten)          (None, 9216)              0         \n",
            "_________________________________________________________________\n",
            "dense_18 (Dense)             (None, 128)               1179776   \n",
            "_________________________________________________________________\n",
            "dropout_16 (Dropout)         (None, 128)               0         \n",
            "_________________________________________________________________\n",
            "dense_38 (Dense)             (None, 1)                 129       \n",
            "=================================================================\n",
            "Total params: 1,198,721\n",
            "Trainable params: 1,198,721\n",
            "Non-trainable params: 0\n",
            "_________________________________________________________________\n"
          ],
          "name": "stdout"
        }
      ]
    },
    {
      "cell_type": "code",
      "metadata": {
        "id": "cU9kYMLBlevM"
      },
      "source": [
        "for layer in model_B_on_A.layers[:-1]:\r\n",
        "    layer.trainable = False"
      ],
      "execution_count": 245,
      "outputs": []
    },
    {
      "cell_type": "code",
      "metadata": {
        "id": "KSi35SYFl46q"
      },
      "source": [
        "model_B_on_A.compile(loss='binary_crossentropy', optimizer='adam', metrics=['accuracy'])"
      ],
      "execution_count": 246,
      "outputs": []
    },
    {
      "cell_type": "code",
      "metadata": {
        "colab": {
          "base_uri": "https://localhost:8080/"
        },
        "id": "i4Fv7Jcvltsm",
        "outputId": "228bf16a-1b51-4f7f-f9ea-a80644e52c90"
      },
      "source": [
        "history = model_B_on_A.fit(X_train_B, y_train_B,\r\n",
        "          batch_size=128,\r\n",
        "          epochs=100,\r\n",
        "          verbose=1, \r\n",
        "          validation_data=(X_valid_B, y_valid_B))"
      ],
      "execution_count": 247,
      "outputs": [
        {
          "output_type": "stream",
          "text": [
            "Epoch 1/100\n",
            "2/2 [==============================] - 1s 283ms/step - loss: 0.6949 - accuracy: 0.5000 - val_loss: 0.6927 - val_accuracy: 0.5065\n",
            "Epoch 2/100\n",
            "2/2 [==============================] - 0s 135ms/step - loss: 0.6901 - accuracy: 0.5178 - val_loss: 0.6907 - val_accuracy: 0.5150\n",
            "Epoch 3/100\n",
            "2/2 [==============================] - 0s 138ms/step - loss: 0.6901 - accuracy: 0.5167 - val_loss: 0.6887 - val_accuracy: 0.5210\n",
            "Epoch 4/100\n",
            "2/2 [==============================] - 0s 147ms/step - loss: 0.6910 - accuracy: 0.4936 - val_loss: 0.6867 - val_accuracy: 0.5290\n",
            "Epoch 5/100\n",
            "2/2 [==============================] - 0s 145ms/step - loss: 0.6817 - accuracy: 0.5549 - val_loss: 0.6847 - val_accuracy: 0.5330\n",
            "Epoch 6/100\n",
            "2/2 [==============================] - 0s 150ms/step - loss: 0.6881 - accuracy: 0.5359 - val_loss: 0.6827 - val_accuracy: 0.5355\n",
            "Epoch 7/100\n",
            "2/2 [==============================] - 0s 142ms/step - loss: 0.6834 - accuracy: 0.5356 - val_loss: 0.6808 - val_accuracy: 0.5375\n",
            "Epoch 8/100\n",
            "2/2 [==============================] - 0s 141ms/step - loss: 0.6743 - accuracy: 0.5490 - val_loss: 0.6788 - val_accuracy: 0.5425\n",
            "Epoch 9/100\n",
            "2/2 [==============================] - 0s 141ms/step - loss: 0.6763 - accuracy: 0.5953 - val_loss: 0.6769 - val_accuracy: 0.5475\n",
            "Epoch 10/100\n",
            "2/2 [==============================] - 0s 143ms/step - loss: 0.6756 - accuracy: 0.5708 - val_loss: 0.6749 - val_accuracy: 0.5520\n",
            "Epoch 11/100\n",
            "2/2 [==============================] - 0s 145ms/step - loss: 0.6701 - accuracy: 0.5608 - val_loss: 0.6730 - val_accuracy: 0.5565\n",
            "Epoch 12/100\n",
            "2/2 [==============================] - 0s 139ms/step - loss: 0.6716 - accuracy: 0.5901 - val_loss: 0.6711 - val_accuracy: 0.5605\n",
            "Epoch 13/100\n",
            "2/2 [==============================] - 0s 136ms/step - loss: 0.6727 - accuracy: 0.5794 - val_loss: 0.6692 - val_accuracy: 0.5635\n",
            "Epoch 14/100\n",
            "2/2 [==============================] - 0s 139ms/step - loss: 0.6687 - accuracy: 0.5742 - val_loss: 0.6673 - val_accuracy: 0.5690\n",
            "Epoch 15/100\n",
            "2/2 [==============================] - 0s 136ms/step - loss: 0.6620 - accuracy: 0.6176 - val_loss: 0.6654 - val_accuracy: 0.5700\n",
            "Epoch 16/100\n",
            "2/2 [==============================] - 0s 134ms/step - loss: 0.6645 - accuracy: 0.5634 - val_loss: 0.6635 - val_accuracy: 0.5740\n",
            "Epoch 17/100\n",
            "2/2 [==============================] - 0s 135ms/step - loss: 0.6567 - accuracy: 0.5991 - val_loss: 0.6616 - val_accuracy: 0.5770\n",
            "Epoch 18/100\n",
            "2/2 [==============================] - 0s 138ms/step - loss: 0.6557 - accuracy: 0.5946 - val_loss: 0.6597 - val_accuracy: 0.5810\n",
            "Epoch 19/100\n",
            "2/2 [==============================] - 0s 141ms/step - loss: 0.6526 - accuracy: 0.6209 - val_loss: 0.6578 - val_accuracy: 0.5865\n",
            "Epoch 20/100\n",
            "2/2 [==============================] - 0s 137ms/step - loss: 0.6554 - accuracy: 0.5979 - val_loss: 0.6560 - val_accuracy: 0.5930\n",
            "Epoch 21/100\n",
            "2/2 [==============================] - 0s 142ms/step - loss: 0.6516 - accuracy: 0.5942 - val_loss: 0.6541 - val_accuracy: 0.5990\n",
            "Epoch 22/100\n",
            "2/2 [==============================] - 0s 143ms/step - loss: 0.6482 - accuracy: 0.6150 - val_loss: 0.6523 - val_accuracy: 0.6035\n",
            "Epoch 23/100\n",
            "2/2 [==============================] - 0s 140ms/step - loss: 0.6484 - accuracy: 0.6057 - val_loss: 0.6504 - val_accuracy: 0.6075\n",
            "Epoch 24/100\n",
            "2/2 [==============================] - 0s 136ms/step - loss: 0.6489 - accuracy: 0.6302 - val_loss: 0.6486 - val_accuracy: 0.6135\n",
            "Epoch 25/100\n",
            "2/2 [==============================] - 0s 142ms/step - loss: 0.6486 - accuracy: 0.5960 - val_loss: 0.6467 - val_accuracy: 0.6205\n",
            "Epoch 26/100\n",
            "2/2 [==============================] - 0s 133ms/step - loss: 0.6437 - accuracy: 0.6417 - val_loss: 0.6449 - val_accuracy: 0.6270\n",
            "Epoch 27/100\n",
            "2/2 [==============================] - 0s 137ms/step - loss: 0.6433 - accuracy: 0.6265 - val_loss: 0.6431 - val_accuracy: 0.6305\n",
            "Epoch 28/100\n",
            "2/2 [==============================] - 0s 138ms/step - loss: 0.6414 - accuracy: 0.6428 - val_loss: 0.6413 - val_accuracy: 0.6365\n",
            "Epoch 29/100\n",
            "2/2 [==============================] - 0s 142ms/step - loss: 0.6408 - accuracy: 0.6747 - val_loss: 0.6395 - val_accuracy: 0.6425\n",
            "Epoch 30/100\n",
            "2/2 [==============================] - 0s 139ms/step - loss: 0.6320 - accuracy: 0.6502 - val_loss: 0.6377 - val_accuracy: 0.6475\n",
            "Epoch 31/100\n",
            "2/2 [==============================] - 0s 138ms/step - loss: 0.6365 - accuracy: 0.6469 - val_loss: 0.6359 - val_accuracy: 0.6550\n",
            "Epoch 32/100\n",
            "2/2 [==============================] - 0s 141ms/step - loss: 0.6244 - accuracy: 0.6870 - val_loss: 0.6342 - val_accuracy: 0.6590\n",
            "Epoch 33/100\n",
            "2/2 [==============================] - 0s 135ms/step - loss: 0.6314 - accuracy: 0.6640 - val_loss: 0.6324 - val_accuracy: 0.6685\n",
            "Epoch 34/100\n",
            "2/2 [==============================] - 0s 134ms/step - loss: 0.6309 - accuracy: 0.6792 - val_loss: 0.6307 - val_accuracy: 0.6740\n",
            "Epoch 35/100\n",
            "2/2 [==============================] - 0s 140ms/step - loss: 0.6260 - accuracy: 0.6706 - val_loss: 0.6289 - val_accuracy: 0.6810\n",
            "Epoch 36/100\n",
            "2/2 [==============================] - 0s 138ms/step - loss: 0.6212 - accuracy: 0.6996 - val_loss: 0.6271 - val_accuracy: 0.6915\n",
            "Epoch 37/100\n",
            "2/2 [==============================] - 0s 137ms/step - loss: 0.6242 - accuracy: 0.6847 - val_loss: 0.6254 - val_accuracy: 0.7020\n",
            "Epoch 38/100\n",
            "2/2 [==============================] - 0s 136ms/step - loss: 0.6221 - accuracy: 0.6892 - val_loss: 0.6237 - val_accuracy: 0.7140\n",
            "Epoch 39/100\n",
            "2/2 [==============================] - 0s 143ms/step - loss: 0.6245 - accuracy: 0.6714 - val_loss: 0.6219 - val_accuracy: 0.7245\n",
            "Epoch 40/100\n",
            "2/2 [==============================] - 0s 134ms/step - loss: 0.6113 - accuracy: 0.7029 - val_loss: 0.6202 - val_accuracy: 0.7320\n",
            "Epoch 41/100\n",
            "2/2 [==============================] - 0s 146ms/step - loss: 0.6190 - accuracy: 0.7103 - val_loss: 0.6185 - val_accuracy: 0.7390\n",
            "Epoch 42/100\n",
            "2/2 [==============================] - 0s 141ms/step - loss: 0.6160 - accuracy: 0.7125 - val_loss: 0.6168 - val_accuracy: 0.7460\n",
            "Epoch 43/100\n",
            "2/2 [==============================] - 0s 135ms/step - loss: 0.6131 - accuracy: 0.7203 - val_loss: 0.6151 - val_accuracy: 0.7510\n",
            "Epoch 44/100\n",
            "2/2 [==============================] - 0s 136ms/step - loss: 0.6103 - accuracy: 0.7070 - val_loss: 0.6134 - val_accuracy: 0.7585\n",
            "Epoch 45/100\n",
            "2/2 [==============================] - 0s 136ms/step - loss: 0.6126 - accuracy: 0.7448 - val_loss: 0.6118 - val_accuracy: 0.7655\n",
            "Epoch 46/100\n",
            "2/2 [==============================] - 0s 132ms/step - loss: 0.6077 - accuracy: 0.7281 - val_loss: 0.6101 - val_accuracy: 0.7685\n",
            "Epoch 47/100\n",
            "2/2 [==============================] - 0s 135ms/step - loss: 0.6097 - accuracy: 0.7448 - val_loss: 0.6085 - val_accuracy: 0.7740\n",
            "Epoch 48/100\n",
            "2/2 [==============================] - 0s 135ms/step - loss: 0.6043 - accuracy: 0.7377 - val_loss: 0.6069 - val_accuracy: 0.7790\n",
            "Epoch 49/100\n",
            "2/2 [==============================] - 0s 137ms/step - loss: 0.5933 - accuracy: 0.7623 - val_loss: 0.6052 - val_accuracy: 0.7830\n",
            "Epoch 50/100\n",
            "2/2 [==============================] - 0s 135ms/step - loss: 0.6056 - accuracy: 0.7415 - val_loss: 0.6036 - val_accuracy: 0.7895\n",
            "Epoch 51/100\n",
            "2/2 [==============================] - 0s 143ms/step - loss: 0.6079 - accuracy: 0.7567 - val_loss: 0.6020 - val_accuracy: 0.7965\n",
            "Epoch 52/100\n",
            "2/2 [==============================] - 0s 140ms/step - loss: 0.5944 - accuracy: 0.7745 - val_loss: 0.6004 - val_accuracy: 0.8015\n",
            "Epoch 53/100\n",
            "2/2 [==============================] - 0s 136ms/step - loss: 0.5990 - accuracy: 0.7567 - val_loss: 0.5988 - val_accuracy: 0.8035\n",
            "Epoch 54/100\n",
            "2/2 [==============================] - 0s 144ms/step - loss: 0.5981 - accuracy: 0.7711 - val_loss: 0.5972 - val_accuracy: 0.8075\n",
            "Epoch 55/100\n",
            "2/2 [==============================] - 0s 138ms/step - loss: 0.5965 - accuracy: 0.7897 - val_loss: 0.5956 - val_accuracy: 0.8110\n",
            "Epoch 56/100\n",
            "2/2 [==============================] - 0s 135ms/step - loss: 0.5893 - accuracy: 0.7871 - val_loss: 0.5940 - val_accuracy: 0.8145\n",
            "Epoch 57/100\n",
            "2/2 [==============================] - 0s 134ms/step - loss: 0.5929 - accuracy: 0.7871 - val_loss: 0.5924 - val_accuracy: 0.8215\n",
            "Epoch 58/100\n",
            "2/2 [==============================] - 0s 138ms/step - loss: 0.5887 - accuracy: 0.7526 - val_loss: 0.5908 - val_accuracy: 0.8245\n",
            "Epoch 59/100\n",
            "2/2 [==============================] - 0s 139ms/step - loss: 0.5865 - accuracy: 0.7785 - val_loss: 0.5892 - val_accuracy: 0.8330\n",
            "Epoch 60/100\n",
            "2/2 [==============================] - 0s 134ms/step - loss: 0.5890 - accuracy: 0.7845 - val_loss: 0.5876 - val_accuracy: 0.8385\n",
            "Epoch 61/100\n",
            "2/2 [==============================] - 0s 138ms/step - loss: 0.5799 - accuracy: 0.8042 - val_loss: 0.5861 - val_accuracy: 0.8415\n",
            "Epoch 62/100\n",
            "2/2 [==============================] - 0s 134ms/step - loss: 0.5861 - accuracy: 0.7678 - val_loss: 0.5845 - val_accuracy: 0.8460\n",
            "Epoch 63/100\n",
            "2/2 [==============================] - 0s 138ms/step - loss: 0.5814 - accuracy: 0.7971 - val_loss: 0.5830 - val_accuracy: 0.8500\n",
            "Epoch 64/100\n",
            "2/2 [==============================] - 0s 136ms/step - loss: 0.5809 - accuracy: 0.7975 - val_loss: 0.5814 - val_accuracy: 0.8535\n",
            "Epoch 65/100\n",
            "2/2 [==============================] - 0s 137ms/step - loss: 0.5773 - accuracy: 0.7833 - val_loss: 0.5798 - val_accuracy: 0.8580\n",
            "Epoch 66/100\n",
            "2/2 [==============================] - 0s 137ms/step - loss: 0.5801 - accuracy: 0.8123 - val_loss: 0.5783 - val_accuracy: 0.8645\n",
            "Epoch 67/100\n",
            "2/2 [==============================] - 0s 139ms/step - loss: 0.5712 - accuracy: 0.7878 - val_loss: 0.5767 - val_accuracy: 0.8660\n",
            "Epoch 68/100\n",
            "2/2 [==============================] - 0s 135ms/step - loss: 0.5763 - accuracy: 0.8064 - val_loss: 0.5752 - val_accuracy: 0.8700\n",
            "Epoch 69/100\n",
            "2/2 [==============================] - 0s 136ms/step - loss: 0.5679 - accuracy: 0.8327 - val_loss: 0.5737 - val_accuracy: 0.8720\n",
            "Epoch 70/100\n",
            "2/2 [==============================] - 0s 133ms/step - loss: 0.5740 - accuracy: 0.8334 - val_loss: 0.5722 - val_accuracy: 0.8760\n",
            "Epoch 71/100\n",
            "2/2 [==============================] - 0s 141ms/step - loss: 0.5697 - accuracy: 0.8342 - val_loss: 0.5706 - val_accuracy: 0.8770\n",
            "Epoch 72/100\n",
            "2/2 [==============================] - 0s 144ms/step - loss: 0.5635 - accuracy: 0.8346 - val_loss: 0.5691 - val_accuracy: 0.8790\n",
            "Epoch 73/100\n",
            "2/2 [==============================] - 0s 138ms/step - loss: 0.5695 - accuracy: 0.8372 - val_loss: 0.5676 - val_accuracy: 0.8805\n",
            "Epoch 74/100\n",
            "2/2 [==============================] - 0s 139ms/step - loss: 0.5570 - accuracy: 0.8386 - val_loss: 0.5661 - val_accuracy: 0.8860\n",
            "Epoch 75/100\n",
            "2/2 [==============================] - 0s 138ms/step - loss: 0.5573 - accuracy: 0.8550 - val_loss: 0.5647 - val_accuracy: 0.8885\n",
            "Epoch 76/100\n",
            "2/2 [==============================] - 0s 151ms/step - loss: 0.5570 - accuracy: 0.8572 - val_loss: 0.5632 - val_accuracy: 0.8905\n",
            "Epoch 77/100\n",
            "2/2 [==============================] - 0s 143ms/step - loss: 0.5599 - accuracy: 0.8472 - val_loss: 0.5617 - val_accuracy: 0.8925\n",
            "Epoch 78/100\n",
            "2/2 [==============================] - 0s 144ms/step - loss: 0.5475 - accuracy: 0.8598 - val_loss: 0.5602 - val_accuracy: 0.8950\n",
            "Epoch 79/100\n",
            "2/2 [==============================] - 0s 141ms/step - loss: 0.5530 - accuracy: 0.8312 - val_loss: 0.5588 - val_accuracy: 0.8965\n",
            "Epoch 80/100\n",
            "2/2 [==============================] - 0s 142ms/step - loss: 0.5530 - accuracy: 0.8513 - val_loss: 0.5573 - val_accuracy: 0.8970\n",
            "Epoch 81/100\n",
            "2/2 [==============================] - 0s 138ms/step - loss: 0.5586 - accuracy: 0.8375 - val_loss: 0.5559 - val_accuracy: 0.9005\n",
            "Epoch 82/100\n",
            "2/2 [==============================] - 0s 139ms/step - loss: 0.5549 - accuracy: 0.8360 - val_loss: 0.5544 - val_accuracy: 0.9015\n",
            "Epoch 83/100\n",
            "2/2 [==============================] - 0s 137ms/step - loss: 0.5536 - accuracy: 0.8520 - val_loss: 0.5530 - val_accuracy: 0.9035\n",
            "Epoch 84/100\n",
            "2/2 [==============================] - 0s 134ms/step - loss: 0.5433 - accuracy: 0.8869 - val_loss: 0.5515 - val_accuracy: 0.9045\n",
            "Epoch 85/100\n",
            "2/2 [==============================] - 0s 146ms/step - loss: 0.5492 - accuracy: 0.8486 - val_loss: 0.5501 - val_accuracy: 0.9070\n",
            "Epoch 86/100\n",
            "2/2 [==============================] - 0s 140ms/step - loss: 0.5505 - accuracy: 0.8505 - val_loss: 0.5487 - val_accuracy: 0.9075\n",
            "Epoch 87/100\n",
            "2/2 [==============================] - 0s 142ms/step - loss: 0.5397 - accuracy: 0.9014 - val_loss: 0.5473 - val_accuracy: 0.9095\n",
            "Epoch 88/100\n",
            "2/2 [==============================] - 0s 142ms/step - loss: 0.5378 - accuracy: 0.8902 - val_loss: 0.5459 - val_accuracy: 0.9110\n",
            "Epoch 89/100\n",
            "2/2 [==============================] - 0s 139ms/step - loss: 0.5474 - accuracy: 0.8560 - val_loss: 0.5445 - val_accuracy: 0.9130\n",
            "Epoch 90/100\n",
            "2/2 [==============================] - 0s 145ms/step - loss: 0.5376 - accuracy: 0.8809 - val_loss: 0.5431 - val_accuracy: 0.9135\n",
            "Epoch 91/100\n",
            "2/2 [==============================] - 0s 144ms/step - loss: 0.5312 - accuracy: 0.9021 - val_loss: 0.5417 - val_accuracy: 0.9140\n",
            "Epoch 92/100\n",
            "2/2 [==============================] - 0s 138ms/step - loss: 0.5362 - accuracy: 0.8650 - val_loss: 0.5404 - val_accuracy: 0.9155\n",
            "Epoch 93/100\n",
            "2/2 [==============================] - 0s 136ms/step - loss: 0.5321 - accuracy: 0.8817 - val_loss: 0.5390 - val_accuracy: 0.9160\n",
            "Epoch 94/100\n",
            "2/2 [==============================] - 0s 146ms/step - loss: 0.5344 - accuracy: 0.8809 - val_loss: 0.5377 - val_accuracy: 0.9165\n",
            "Epoch 95/100\n",
            "2/2 [==============================] - 0s 137ms/step - loss: 0.5295 - accuracy: 0.8869 - val_loss: 0.5363 - val_accuracy: 0.9170\n",
            "Epoch 96/100\n",
            "2/2 [==============================] - 0s 136ms/step - loss: 0.5218 - accuracy: 0.9140 - val_loss: 0.5350 - val_accuracy: 0.9175\n",
            "Epoch 97/100\n",
            "2/2 [==============================] - 0s 139ms/step - loss: 0.5263 - accuracy: 0.9114 - val_loss: 0.5336 - val_accuracy: 0.9185\n",
            "Epoch 98/100\n",
            "2/2 [==============================] - 0s 148ms/step - loss: 0.5357 - accuracy: 0.8579 - val_loss: 0.5323 - val_accuracy: 0.9195\n",
            "Epoch 99/100\n",
            "2/2 [==============================] - 0s 135ms/step - loss: 0.5282 - accuracy: 0.8928 - val_loss: 0.5310 - val_accuracy: 0.9200\n",
            "Epoch 100/100\n",
            "2/2 [==============================] - 0s 137ms/step - loss: 0.5291 - accuracy: 0.8843 - val_loss: 0.5297 - val_accuracy: 0.9205\n"
          ],
          "name": "stdout"
        }
      ]
    },
    {
      "cell_type": "code",
      "metadata": {
        "id": "ONIFffqEmn0I"
      },
      "source": [
        "for layer in model_B_on_A.layers[:-1]:\r\n",
        "    layer.trainable = True"
      ],
      "execution_count": 267,
      "outputs": []
    },
    {
      "cell_type": "code",
      "metadata": {
        "id": "lAIJxbh4n1op"
      },
      "source": [
        "from keras.optimizers import Adam\r\n",
        "\r\n",
        "model_B_on_A.compile(loss='binary_crossentropy', optimizer=Adam(lr=0.001), metrics=['accuracy'])"
      ],
      "execution_count": 268,
      "outputs": []
    },
    {
      "cell_type": "code",
      "metadata": {
        "colab": {
          "base_uri": "https://localhost:8080/"
        },
        "id": "Y30pEgsgoNYC",
        "outputId": "1b1522db-dcbe-409b-f708-ea7310bfdb70"
      },
      "source": [
        "history = model_B_on_A.fit(X_train_B, y_train_B,\r\n",
        "          batch_size=128,\r\n",
        "          epochs=20,\r\n",
        "          verbose=1, \r\n",
        "          validation_data=(X_valid_B, y_valid_B))"
      ],
      "execution_count": 269,
      "outputs": [
        {
          "output_type": "stream",
          "text": [
            "Epoch 1/20\n",
            "2/2 [==============================] - 1s 302ms/step - loss: 0.9246 - accuracy: 0.5894 - val_loss: 0.4260 - val_accuracy: 0.8185\n",
            "Epoch 2/20\n",
            "2/2 [==============================] - 0s 145ms/step - loss: 0.5050 - accuracy: 0.7878 - val_loss: 0.1926 - val_accuracy: 0.9685\n",
            "Epoch 3/20\n",
            "2/2 [==============================] - 0s 142ms/step - loss: 0.2448 - accuracy: 0.9061 - val_loss: 0.1087 - val_accuracy: 0.9720\n",
            "Epoch 4/20\n",
            "2/2 [==============================] - 0s 140ms/step - loss: 0.1323 - accuracy: 0.9670 - val_loss: 0.0825 - val_accuracy: 0.9700\n",
            "Epoch 5/20\n",
            "2/2 [==============================] - 0s 142ms/step - loss: 0.1247 - accuracy: 0.9562 - val_loss: 0.0724 - val_accuracy: 0.9720\n",
            "Epoch 6/20\n",
            "2/2 [==============================] - 0s 145ms/step - loss: 0.0796 - accuracy: 0.9670 - val_loss: 0.0653 - val_accuracy: 0.9740\n",
            "Epoch 7/20\n",
            "2/2 [==============================] - 0s 137ms/step - loss: 0.0556 - accuracy: 0.9907 - val_loss: 0.0598 - val_accuracy: 0.9765\n",
            "Epoch 8/20\n",
            "2/2 [==============================] - 0s 138ms/step - loss: 0.0499 - accuracy: 0.9815 - val_loss: 0.0554 - val_accuracy: 0.9785\n",
            "Epoch 9/20\n",
            "2/2 [==============================] - 0s 145ms/step - loss: 0.0443 - accuracy: 0.9789 - val_loss: 0.0507 - val_accuracy: 0.9815\n",
            "Epoch 10/20\n",
            "2/2 [==============================] - 0s 152ms/step - loss: 0.0381 - accuracy: 0.9841 - val_loss: 0.0469 - val_accuracy: 0.9825\n",
            "Epoch 11/20\n",
            "2/2 [==============================] - 0s 139ms/step - loss: 0.0367 - accuracy: 0.9729 - val_loss: 0.0429 - val_accuracy: 0.9850\n",
            "Epoch 12/20\n",
            "2/2 [==============================] - 0s 143ms/step - loss: 0.0193 - accuracy: 0.9941 - val_loss: 0.0399 - val_accuracy: 0.9855\n",
            "Epoch 13/20\n",
            "2/2 [==============================] - 0s 140ms/step - loss: 0.0157 - accuracy: 0.9941 - val_loss: 0.0378 - val_accuracy: 0.9870\n",
            "Epoch 14/20\n",
            "2/2 [==============================] - 0s 146ms/step - loss: 0.0150 - accuracy: 1.0000 - val_loss: 0.0363 - val_accuracy: 0.9870\n",
            "Epoch 15/20\n",
            "2/2 [==============================] - 0s 151ms/step - loss: 0.0077 - accuracy: 1.0000 - val_loss: 0.0350 - val_accuracy: 0.9875\n",
            "Epoch 16/20\n",
            "2/2 [==============================] - 0s 144ms/step - loss: 0.0055 - accuracy: 1.0000 - val_loss: 0.0340 - val_accuracy: 0.9875\n",
            "Epoch 17/20\n",
            "2/2 [==============================] - 0s 141ms/step - loss: 0.0101 - accuracy: 0.9941 - val_loss: 0.0331 - val_accuracy: 0.9870\n",
            "Epoch 18/20\n",
            "2/2 [==============================] - 0s 142ms/step - loss: 0.0072 - accuracy: 1.0000 - val_loss: 0.0323 - val_accuracy: 0.9875\n",
            "Epoch 19/20\n",
            "2/2 [==============================] - 0s 144ms/step - loss: 0.0079 - accuracy: 1.0000 - val_loss: 0.0315 - val_accuracy: 0.9885\n",
            "Epoch 20/20\n",
            "2/2 [==============================] - 0s 141ms/step - loss: 0.0053 - accuracy: 1.0000 - val_loss: 0.0309 - val_accuracy: 0.9890\n"
          ],
          "name": "stdout"
        }
      ]
    }
  ]
}