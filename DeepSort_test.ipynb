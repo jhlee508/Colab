{
  "nbformat": 4,
  "nbformat_minor": 0,
  "metadata": {
    "colab": {
      "name": "DeepSort_test.ipynb",
      "provenance": [],
      "authorship_tag": "ABX9TyMGRQtJMzAyi9q2NXtaX/8A",
      "include_colab_link": true
    },
    "kernelspec": {
      "name": "python3",
      "display_name": "Python 3"
    },
    "language_info": {
      "name": "python"
    }
  },
  "cells": [
    {
      "cell_type": "markdown",
      "metadata": {
        "id": "view-in-github",
        "colab_type": "text"
      },
      "source": [
        "<a href=\"https://colab.research.google.com/github/jhlee508/Colab/blob/master/DeepSort_test.ipynb\" target=\"_parent\"><img src=\"https://colab.research.google.com/assets/colab-badge.svg\" alt=\"Open In Colab\"/></a>"
      ]
    },
    {
      "cell_type": "code",
      "metadata": {
        "id": "mlL-hDG5Z9Ok"
      },
      "source": [
        "%cd /content\n",
        "!git clone https://github.com/ultralytics/yolov5.git"
      ],
      "execution_count": null,
      "outputs": []
    },
    {
      "cell_type": "code",
      "metadata": {
        "colab": {
          "base_uri": "https://localhost:8080/"
        },
        "id": "0r5TQ7aDXhwS",
        "outputId": "9ef4605b-54f7-49b2-a626-fb11ca7b136e"
      },
      "source": [
        "%cd /content\n",
        "!git clone --recurse-submodules https://github.com/mikel-brostrom/Yolov5_DeepSort_Pytorch.git"
      ],
      "execution_count": null,
      "outputs": [
        {
          "output_type": "stream",
          "text": [
            "Cloning into 'Yolov5_DeepSort_Pytorch'...\n",
            "remote: Enumerating objects: 511, done.\u001b[K\n",
            "remote: Counting objects: 100% (173/173), done.\u001b[K\n",
            "remote: Compressing objects: 100% (97/97), done.\u001b[K\n",
            "remote: Total 511 (delta 120), reused 104 (delta 76), pack-reused 338\u001b[K\n",
            "Receiving objects: 100% (511/511), 20.78 MiB | 23.96 MiB/s, done.\n",
            "Resolving deltas: 100% (236/236), done.\n",
            "Submodule 'yolov5' (https://github.com/ultralytics/yolov5.git) registered for path 'yolov5'\n",
            "Cloning into '/content/Yolov5_DeepSort_Pytorch/yolov5'...\n",
            "remote: Enumerating objects: 7144, done.        \n",
            "remote: Counting objects: 100% (250/250), done.        \n",
            "remote: Compressing objects: 100% (149/149), done.        \n",
            "remote: Total 7144 (delta 150), reused 181 (delta 101), pack-reused 6894        \n",
            "Receiving objects: 100% (7144/7144), 9.13 MiB | 22.46 MiB/s, done.\n",
            "Resolving deltas: 100% (4886/4886), done.\n",
            "Submodule path 'yolov5': checked out 'b8be76f915207ef0759bfb0f1c0707c79877b763'\n"
          ],
          "name": "stdout"
        }
      ]
    },
    {
      "cell_type": "code",
      "metadata": {
        "colab": {
          "base_uri": "https://localhost:8080/"
        },
        "id": "hwSWwHbOY-W_",
        "outputId": "78337a6e-35d5-4c38-d859-136c961b13c5"
      },
      "source": [
        "%cd /content/Yolov5_DeepSort_Pytorch\n",
        "!pip install -r requirements.txt"
      ],
      "execution_count": null,
      "outputs": [
        {
          "output_type": "stream",
          "text": [
            "/content/Yolov5_DeepSort_Pytorch\n",
            "Requirement already satisfied: matplotlib>=3.2.2 in /usr/local/lib/python3.7/dist-packages (from -r requirements.txt (line 5)) (3.2.2)\n",
            "Requirement already satisfied: numpy>=1.18.5 in /usr/local/lib/python3.7/dist-packages (from -r requirements.txt (line 6)) (1.19.5)\n",
            "Requirement already satisfied: opencv-python>=4.1.2 in /usr/local/lib/python3.7/dist-packages (from -r requirements.txt (line 7)) (4.1.2.30)\n",
            "Requirement already satisfied: Pillow in /usr/local/lib/python3.7/dist-packages (from -r requirements.txt (line 8)) (7.1.2)\n",
            "Collecting PyYAML>=5.3.1\n",
            "\u001b[?25l  Downloading https://files.pythonhosted.org/packages/7a/a5/393c087efdc78091afa2af9f1378762f9821c9c1d7a22c5753fb5ac5f97a/PyYAML-5.4.1-cp37-cp37m-manylinux1_x86_64.whl (636kB)\n",
            "\u001b[K     |████████████████████████████████| 645kB 4.1MB/s \n",
            "\u001b[?25hRequirement already satisfied: scipy>=1.4.1 in /usr/local/lib/python3.7/dist-packages (from -r requirements.txt (line 10)) (1.4.1)\n",
            "Requirement already satisfied: torch>=1.7.0 in /usr/local/lib/python3.7/dist-packages (from -r requirements.txt (line 11)) (1.8.1+cu101)\n",
            "Requirement already satisfied: torchvision>=0.8.1 in /usr/local/lib/python3.7/dist-packages (from -r requirements.txt (line 12)) (0.9.1+cu101)\n",
            "Requirement already satisfied: tqdm>=4.41.0 in /usr/local/lib/python3.7/dist-packages (from -r requirements.txt (line 13)) (4.41.1)\n",
            "Requirement already satisfied: seaborn>=0.11.0 in /usr/local/lib/python3.7/dist-packages (from -r requirements.txt (line 17)) (0.11.1)\n",
            "Requirement already satisfied: pandas in /usr/local/lib/python3.7/dist-packages (from -r requirements.txt (line 18)) (1.1.5)\n",
            "Requirement already satisfied: easydict in /usr/local/lib/python3.7/dist-packages (from -r requirements.txt (line 22)) (1.9)\n",
            "Requirement already satisfied: python-dateutil>=2.1 in /usr/local/lib/python3.7/dist-packages (from matplotlib>=3.2.2->-r requirements.txt (line 5)) (2.8.1)\n",
            "Requirement already satisfied: pyparsing!=2.0.4,!=2.1.2,!=2.1.6,>=2.0.1 in /usr/local/lib/python3.7/dist-packages (from matplotlib>=3.2.2->-r requirements.txt (line 5)) (2.4.7)\n",
            "Requirement already satisfied: cycler>=0.10 in /usr/local/lib/python3.7/dist-packages (from matplotlib>=3.2.2->-r requirements.txt (line 5)) (0.10.0)\n",
            "Requirement already satisfied: kiwisolver>=1.0.1 in /usr/local/lib/python3.7/dist-packages (from matplotlib>=3.2.2->-r requirements.txt (line 5)) (1.3.1)\n",
            "Requirement already satisfied: typing-extensions in /usr/local/lib/python3.7/dist-packages (from torch>=1.7.0->-r requirements.txt (line 11)) (3.7.4.3)\n",
            "Requirement already satisfied: pytz>=2017.2 in /usr/local/lib/python3.7/dist-packages (from pandas->-r requirements.txt (line 18)) (2018.9)\n",
            "Requirement already satisfied: six>=1.5 in /usr/local/lib/python3.7/dist-packages (from python-dateutil>=2.1->matplotlib>=3.2.2->-r requirements.txt (line 5)) (1.15.0)\n",
            "Installing collected packages: PyYAML\n",
            "  Found existing installation: PyYAML 3.13\n",
            "    Uninstalling PyYAML-3.13:\n",
            "      Successfully uninstalled PyYAML-3.13\n",
            "Successfully installed PyYAML-5.4.1\n"
          ],
          "name": "stdout"
        }
      ]
    },
    {
      "cell_type": "code",
      "metadata": {
        "colab": {
          "base_uri": "https://localhost:8080/"
        },
        "id": "Y5LPeANfXytm",
        "outputId": "520e773a-bd98-4057-8a9f-0205d9cb5c7b"
      },
      "source": [
        "!python3 track.py --source '/content/road.mp4' --save-txt --config_deepsort='deep_sort_pytorch/configs/deep_sort.yaml' --save-vid"
      ],
      "execution_count": null,
      "outputs": [
        {
          "output_type": "stream",
          "text": [
            "/content/Yolov5_DeepSort_Pytorch/deep_sort_pytorch/utils/parser.py:24: YAMLLoadWarning: calling yaml.load() without Loader=... is deprecated, as the default Loader is unsafe. Please read https://msg.pyyaml.org/load for full details.\n",
            "  self.update(yaml.load(fo.read()))\n",
            "video 1/1 (1/38) /content/road.mp4: 384x640 3 cars, Done. (0.297s)\n",
            "video 1/1 (2/38) /content/road.mp4: 384x640 3 cars, Done. (0.298s)\n",
            "video 1/1 (3/38) /content/road.mp4: 384x640 3 cars, Done. (0.297s)\n",
            "video 1/1 (4/38) /content/road.mp4: 384x640 3 cars, Done. (0.291s)\n",
            "video 1/1 (5/38) /content/road.mp4: 384x640 3 cars, Done. (0.288s)\n",
            "video 1/1 (6/38) /content/road.mp4: 384x640 2 cars, Done. (0.292s)\n",
            "video 1/1 (7/38) /content/road.mp4: 384x640 2 cars, Done. (0.290s)\n",
            "video 1/1 (8/38) /content/road.mp4: 384x640 2 cars, Done. (0.292s)\n",
            "video 1/1 (9/38) /content/road.mp4: 384x640 2 cars, Done. (0.295s)\n",
            "video 1/1 (10/38) /content/road.mp4: 384x640 2 cars, Done. (0.285s)\n",
            "video 1/1 (11/38) /content/road.mp4: 384x640 2 cars, Done. (0.282s)\n",
            "video 1/1 (12/38) /content/road.mp4: 384x640 2 cars, Done. (0.281s)\n",
            "video 1/1 (13/38) /content/road.mp4: 384x640 2 cars, Done. (0.290s)\n",
            "video 1/1 (14/38) /content/road.mp4: 384x640 3 cars, Done. (0.286s)\n",
            "video 1/1 (15/38) /content/road.mp4: 384x640 2 cars, Done. (0.288s)\n",
            "video 1/1 (16/38) /content/road.mp4: 384x640 2 cars, Done. (0.288s)\n",
            "video 1/1 (17/38) /content/road.mp4: 384x640 2 cars, Done. (0.297s)\n",
            "video 1/1 (18/38) /content/road.mp4: 384x640 2 cars, Done. (0.292s)\n",
            "video 1/1 (19/38) /content/road.mp4: 384x640 3 cars, Done. (0.291s)\n",
            "video 1/1 (20/38) /content/road.mp4: 384x640 3 cars, Done. (0.288s)\n",
            "video 1/1 (21/38) /content/road.mp4: 384x640 2 cars, Done. (0.289s)\n",
            "video 1/1 (22/38) /content/road.mp4: 384x640 2 cars, Done. (0.291s)\n",
            "video 1/1 (23/38) /content/road.mp4: 384x640 2 cars, Done. (0.289s)\n",
            "video 1/1 (24/38) /content/road.mp4: 384x640 2 cars, Done. (0.289s)\n",
            "video 1/1 (25/38) /content/road.mp4: 384x640 2 cars, Done. (0.287s)\n",
            "video 1/1 (26/38) /content/road.mp4: 384x640 2 cars, Done. (0.300s)\n",
            "video 1/1 (27/38) /content/road.mp4: 384x640 2 cars, Done. (0.286s)\n",
            "video 1/1 (28/38) /content/road.mp4: 384x640 2 cars, Done. (0.306s)\n",
            "video 1/1 (29/38) /content/road.mp4: 384x640 2 cars, Done. (0.286s)\n",
            "video 1/1 (30/38) /content/road.mp4: 384x640 2 cars, Done. (0.292s)\n",
            "video 1/1 (31/38) /content/road.mp4: 384x640 2 cars, Done. (0.288s)\n",
            "video 1/1 (32/38) /content/road.mp4: 384x640 2 cars, Done. (0.289s)\n",
            "video 1/1 (33/38) /content/road.mp4: 384x640 2 cars, Done. (0.292s)\n",
            "video 1/1 (34/38) /content/road.mp4: 384x640 2 cars, Done. (0.282s)\n",
            "video 1/1 (35/38) /content/road.mp4: 384x640 2 cars, Done. (0.294s)\n",
            "video 1/1 (36/38) /content/road.mp4: 384x640 2 cars, Done. (0.287s)\n",
            "video 1/1 (37/38) /content/road.mp4: 384x640 2 cars, Done. (0.300s)\n",
            "Results saved to /content/Yolov5_DeepSort_Pytorch/inference/output\n",
            "Done. (17.494s)\n"
          ],
          "name": "stdout"
        }
      ]
    },
    {
      "cell_type": "code",
      "metadata": {
        "id": "igQXfv_8cijB"
      },
      "source": [
        "rm -r '/content/Yolov5_DeepSort_Pytorch/inference'"
      ],
      "execution_count": null,
      "outputs": []
    },
    {
      "cell_type": "markdown",
      "metadata": {
        "id": "q3xIDg7RiRVJ"
      },
      "source": [
        "# SCSE"
      ]
    },
    {
      "cell_type": "code",
      "metadata": {
        "colab": {
          "base_uri": "https://localhost:8080/"
        },
        "id": "8zcBon6uiQbH",
        "outputId": "3fb190fa-0e8a-452e-b94d-dd0cac656e8e"
      },
      "source": [
        "%cd /content\n",
        "!git clone https://github.com/ruthetum/SCSE.git"
      ],
      "execution_count": null,
      "outputs": [
        {
          "output_type": "stream",
          "text": [
            "/content\n",
            "Cloning into 'SCSE'...\n",
            "remote: Enumerating objects: 235, done.\u001b[K\n",
            "remote: Counting objects: 100% (235/235), done.\u001b[K\n",
            "remote: Compressing objects: 100% (194/194), done.\u001b[K\n",
            "remote: Total 235 (delta 73), reused 183 (delta 30), pack-reused 0\u001b[K\n",
            "Receiving objects: 100% (235/235), 39.83 MiB | 14.42 MiB/s, done.\n",
            "Resolving deltas: 100% (73/73), done.\n"
          ],
          "name": "stdout"
        }
      ]
    },
    {
      "cell_type": "code",
      "metadata": {
        "id": "3s0FBvPBigXt"
      },
      "source": [
        "import os\n",
        "\n",
        "os.chdir('SCSE')"
      ],
      "execution_count": null,
      "outputs": []
    },
    {
      "cell_type": "code",
      "metadata": {
        "colab": {
          "base_uri": "https://localhost:8080/"
        },
        "id": "LAhtmyK_izwk",
        "outputId": "d3920913-ddac-4263-8254-465b72c111db"
      },
      "source": [
        "!git pull origin tracking"
      ],
      "execution_count": null,
      "outputs": [
        {
          "output_type": "stream",
          "text": [
            "From https://github.com/ruthetum/SCSE\n",
            " * branch            tracking   -> FETCH_HEAD\n",
            "Updating 0c45176..a141e89\n",
            "Fast-forward\n",
            " .gitignore                                         |    9 \u001b[32m+\u001b[m\u001b[31m-\u001b[m\n",
            " .../__pycache__/evaluate_depth.cpython-37.pyc      |  Bin \u001b[31m0\u001b[m -> \u001b[32m6018\u001b[m bytes\n",
            " .../__pycache__/kitti_utils.cpython-37.pyc         |  Bin \u001b[31m0\u001b[m -> \u001b[32m3035\u001b[m bytes\n",
            " DepthEstimation/__pycache__/layers.cpython-37.pyc  |  Bin \u001b[31m0\u001b[m -> \u001b[32m8385\u001b[m bytes\n",
            " DepthEstimation/__pycache__/options.cpython-37.pyc |  Bin \u001b[31m0\u001b[m -> \u001b[32m4932\u001b[m bytes\n",
            " DepthEstimation/__pycache__/utils.cpython-37.pyc   |  Bin \u001b[31m0\u001b[m -> \u001b[32m3862\u001b[m bytes\n",
            " DepthEstimation/datasets/__init__.py               |    1 \u001b[32m+\u001b[m\n",
            " .../datasets/__pycache__/__init__.cpython-37.pyc   |  Bin \u001b[31m0\u001b[m -> \u001b[32m261\u001b[m bytes\n",
            " .../__pycache__/kitti_dataset.cpython-37.pyc       |  Bin \u001b[31m0\u001b[m -> \u001b[32m4650\u001b[m bytes\n",
            " .../__pycache__/mono_dataset.cpython-37.pyc        |  Bin \u001b[31m0\u001b[m -> \u001b[32m5846\u001b[m bytes\n",
            " DepthEstimation/datasets/kitti_dataset.py          |  134 \u001b[32m+++\u001b[m\n",
            " DepthEstimation/datasets/mono_dataset.py           |  209 \u001b[32m++++\u001b[m\n",
            " DepthEstimation/distance_estimation.py             |  204 \u001b[32m++++\u001b[m\n",
            " DepthEstimation/evaluate_depth.py                  |  230 \u001b[32m++++\u001b[m\n",
            " DepthEstimation/experiments/cal_speed.sh           |    2 \u001b[32m+\u001b[m\n",
            " .../experiments/run_depth_estimation.sh            |    1 \u001b[32m+\u001b[m\n",
            " DepthEstimation/kitti_utils.py                     |   98 \u001b[32m++\u001b[m\n",
            " DepthEstimation/layers.py                          |  269 \u001b[32m+++++\u001b[m\n",
            " DepthEstimation/models/mono+stereo_640x192.zip     |  Bin \u001b[31m0\u001b[m -> \u001b[32m27090944\u001b[m bytes\n",
            " DepthEstimation/networks/__init__.py               |    4 \u001b[32m+\u001b[m\n",
            " .../networks/__pycache__/__init__.cpython-37.pyc   |  Bin \u001b[31m0\u001b[m -> \u001b[32m343\u001b[m bytes\n",
            " .../__pycache__/depth_decoder.cpython-37.pyc       |  Bin \u001b[31m0\u001b[m -> \u001b[32m1832\u001b[m bytes\n",
            " .../networks/__pycache__/pose_cnn.cpython-37.pyc   |  Bin \u001b[31m0\u001b[m -> \u001b[32m1454\u001b[m bytes\n",
            " .../__pycache__/pose_decoder.cpython-37.pyc        |  Bin \u001b[31m0\u001b[m -> \u001b[32m1867\u001b[m bytes\n",
            " .../__pycache__/resnet_encoder.cpython-37.pyc      |  Bin \u001b[31m0\u001b[m -> \u001b[32m3707\u001b[m bytes\n",
            " DepthEstimation/networks/depth_decoder.py          |   65 \u001b[32m++\u001b[m\n",
            " DepthEstimation/networks/pose_cnn.py               |   50 \u001b[32m+\u001b[m\n",
            " DepthEstimation/networks/pose_decoder.py           |   54 \u001b[32m+\u001b[m\n",
            " DepthEstimation/networks/resnet_encoder.py         |   98 \u001b[32m++\u001b[m\n",
            " DepthEstimation/options.py                         |  208 \u001b[32m++++\u001b[m\n",
            " DepthEstimation/requirements.txt                   |   50 \u001b[32m+\u001b[m\n",
            " DepthEstimation/test_simple.py                     |  173 \u001b[32m+++\u001b[m\n",
            " DepthEstimation/utils.py                           |  114 \u001b[32m++\u001b[m\n",
            " ObjectDetection/data/images/bus.jpg                |  Bin \u001b[31m0\u001b[m -> \u001b[32m487438\u001b[m bytes\n",
            " ObjectDetection/data/images/zidane.jpg             |  Bin \u001b[31m0\u001b[m -> \u001b[32m168949\u001b[m bytes\n",
            " ObjectDetection/detect.py                          |  204 \u001b[32m++++\u001b[m\n",
            " .../models/__pycache__/common.cpython-38.pyc       |  Bin \u001b[31m0\u001b[m -> \u001b[32m18606\u001b[m bytes\n",
            " .../models/__pycache__/experimental.cpython-38.pyc |  Bin \u001b[31m0\u001b[m -> \u001b[32m5985\u001b[m bytes\n",
            " .../models/__pycache__/yolo.cpython-38.pyc         |  Bin \u001b[31m0\u001b[m -> \u001b[32m11113\u001b[m bytes\n",
            " ObjectDetection/models/common.py                   |  395 \u001b[32m+++++++\u001b[m\n",
            " ObjectDetection/models/experimental.py             |  136 \u001b[32m+++\u001b[m\n",
            " ObjectDetection/models/yolo.py                     |  310 \u001b[32m++++++\u001b[m\n",
            " ObjectDetection/requirements.txt                   |   50 \u001b[32m+\u001b[m\n",
            " .../utils/__pycache__/autoanchor.cpython-38.pyc    |  Bin \u001b[31m0\u001b[m -> \u001b[32m6180\u001b[m bytes\n",
            " .../utils/__pycache__/datasets.cpython-38.pyc      |  Bin \u001b[31m0\u001b[m -> \u001b[32m36251\u001b[m bytes\n",
            " .../utils/__pycache__/general.cpython-38.pyc       |  Bin \u001b[31m0\u001b[m -> \u001b[32m24993\u001b[m bytes\n",
            " .../utils/__pycache__/google_utils.cpython-38.pyc  |  Bin \u001b[31m0\u001b[m -> \u001b[32m3861\u001b[m bytes\n",
            " .../utils/__pycache__/metrics.cpython-38.pyc       |  Bin \u001b[31m0\u001b[m -> \u001b[32m7790\u001b[m bytes\n",
            " .../utils/__pycache__/plots.cpython-38.pyc         |  Bin \u001b[31m0\u001b[m -> \u001b[32m16478\u001b[m bytes\n",
            " .../utils/__pycache__/torch_utils.cpython-38.pyc   |  Bin \u001b[31m0\u001b[m -> \u001b[32m11602\u001b[m bytes\n",
            " ObjectDetection/utils/autoanchor.py                |  161 \u001b[32m+++\u001b[m\n",
            " ObjectDetection/utils/datasets.py                  | 1116 \u001b[32m++++++++++++++++++++\u001b[m\n",
            " ObjectDetection/utils/general.py                   |  729 \u001b[32m+++++++++++++\u001b[m\n",
            " ObjectDetection/utils/google_utils.py              |  143 \u001b[32m+++\u001b[m\n",
            " ObjectDetection/utils/metrics.py                   |  226 \u001b[32m++++\u001b[m\n",
            " ObjectDetection/utils/plots.py                     |  447 \u001b[32m++++++++\u001b[m\n",
            " ObjectDetection/utils/torch_utils.py               |  310 \u001b[32m++++++\u001b[m\n",
            " ObjectDetection/yolov5s.pt                         |  Bin \u001b[31m0\u001b[m -> \u001b[32m14795158\u001b[m bytes\n",
            " SpeedEstimation/datasets/__init__.py               |    1 \u001b[32m+\u001b[m\n",
            " SpeedEstimation/datasets/kitti_dataset.py          |  134 \u001b[32m+++\u001b[m\n",
            " SpeedEstimation/datasets/mono_dataset.py           |  209 \u001b[32m++++\u001b[m\n",
            " SpeedEstimation/deep_sort_pytorch/.gitignore       |   13 \u001b[32m+\u001b[m\n",
            " SpeedEstimation/deep_sort_pytorch/LICENSE          |   21 \u001b[32m+\u001b[m\n",
            " SpeedEstimation/deep_sort_pytorch/README.md        |  137 \u001b[32m+++\u001b[m\n",
            " .../deep_sort_pytorch/configs/deep_sort.yaml       |   10 \u001b[32m+\u001b[m\n",
            " .../deep_sort_pytorch/deep_sort/README.md          |    3 \u001b[32m+\u001b[m\n",
            " .../deep_sort_pytorch/deep_sort/__init__.py        |   21 \u001b[32m+\u001b[m\n",
            " .../deep_sort_pytorch/deep_sort/deep/__init__.py   |    0\n",
            " .../deep_sort/deep/checkpoint/.gitkeep             |    0\n",
            " .../deep_sort_pytorch/deep_sort/deep/evaluate.py   |   13 \u001b[32m+\u001b[m\n",
            " .../deep_sort/deep/feature_extractor.py            |   54 \u001b[32m+\u001b[m\n",
            " .../deep_sort_pytorch/deep_sort/deep/model.py      |  109 \u001b[32m++\u001b[m\n",
            " .../deep_sort/deep/original_model.py               |  111 \u001b[32m++\u001b[m\n",
            " .../deep_sort_pytorch/deep_sort/deep/test.py       |   80 \u001b[32m++\u001b[m\n",
            " .../deep_sort_pytorch/deep_sort/deep/train.jpg     |  Bin \u001b[31m0\u001b[m -> \u001b[32m60349\u001b[m bytes\n",
            " .../deep_sort_pytorch/deep_sort/deep/train.py      |  206 \u001b[32m++++\u001b[m\n",
            " .../deep_sort_pytorch/deep_sort/deep_sort.py       |  113 \u001b[32m++\u001b[m\n",
            " .../deep_sort_pytorch/deep_sort/sort/__init__.py   |    0\n",
            " .../deep_sort_pytorch/deep_sort/sort/detection.py  |   49 \u001b[32m+\u001b[m\n",
            " .../deep_sort/sort/iou_matching.py                 |   82 \u001b[32m++\u001b[m\n",
            " .../deep_sort/sort/kalman_filter.py                |  229 \u001b[32m++++\u001b[m\n",
            " .../deep_sort/sort/linear_assignment.py            |  192 \u001b[32m++++\u001b[m\n",
            " .../deep_sort/sort/nn_matching.py                  |  176 \u001b[32m+++\u001b[m\n",
            " .../deep_sort/sort/preprocessing.py                |   73 \u001b[32m++\u001b[m\n",
            " .../deep_sort_pytorch/deep_sort/sort/track.py      |  169 \u001b[32m+++\u001b[m\n",
            " .../deep_sort_pytorch/deep_sort/sort/tracker.py    |  143 \u001b[32m+++\u001b[m\n",
            " .../deep_sort_pytorch/utils/__init__.py            |    0\n",
            " SpeedEstimation/deep_sort_pytorch/utils/asserts.py |   13 \u001b[32m+\u001b[m\n",
            " SpeedEstimation/deep_sort_pytorch/utils/draw.py    |   36 \u001b[32m+\u001b[m\n",
            " .../deep_sort_pytorch/utils/evaluation.py          |  103 \u001b[32m++\u001b[m\n",
            " SpeedEstimation/deep_sort_pytorch/utils/io.py      |  133 \u001b[32m+++\u001b[m\n",
            " .../deep_sort_pytorch/utils/json_logger.py         |  383 \u001b[32m+++++++\u001b[m\n",
            " SpeedEstimation/deep_sort_pytorch/utils/log.py     |   17 \u001b[32m+\u001b[m\n",
            " SpeedEstimation/deep_sort_pytorch/utils/parser.py  |   39 \u001b[32m+\u001b[m\n",
            " SpeedEstimation/deep_sort_pytorch/utils/tools.py   |   39 \u001b[32m+\u001b[m\n",
            " SpeedEstimation/distance.py                        |   20 \u001b[32m+\u001b[m\n",
            " SpeedEstimation/experiments/run.sh                 |    1 \u001b[32m+\u001b[m\n",
            " SpeedEstimation/kitti_utils.py                     |   98 \u001b[32m++\u001b[m\n",
            " SpeedEstimation/layers.py                          |  269 \u001b[32m+++++\u001b[m\n",
            " SpeedEstimation/main.py                            |  472 \u001b[32m+++++++++\u001b[m\n",
            " SpeedEstimation/models/common.py                   |  395 \u001b[32m+++++++\u001b[m\n",
            " SpeedEstimation/models/experimental.py             |  136 \u001b[32m+++\u001b[m\n",
            " SpeedEstimation/models/yolo.py                     |  310 \u001b[32m++++++\u001b[m\n",
            " SpeedEstimation/networks/__init__.py               |    4 \u001b[32m+\u001b[m\n",
            " SpeedEstimation/networks/depth_decoder.py          |   65 \u001b[32m++\u001b[m\n",
            " SpeedEstimation/networks/pose_cnn.py               |   50 \u001b[32m+\u001b[m\n",
            " SpeedEstimation/networks/pose_decoder.py           |   54 \u001b[32m+\u001b[m\n",
            " SpeedEstimation/networks/resnet_encoder.py         |   98 \u001b[32m++\u001b[m\n",
            " SpeedEstimation/options.py                         |  208 \u001b[32m++++\u001b[m\n",
            " SpeedEstimation/util.py                            |  114 \u001b[32m++\u001b[m\n",
            " SpeedEstimation/utils/autoanchor.py                |  161 \u001b[32m+++\u001b[m\n",
            " SpeedEstimation/utils/datasets.py                  | 1116 \u001b[32m++++++++++++++++++++\u001b[m\n",
            " SpeedEstimation/utils/general.py                   |  729 \u001b[32m+++++++++++++\u001b[m\n",
            " SpeedEstimation/utils/google_utils.py              |  143 \u001b[32m+++\u001b[m\n",
            " SpeedEstimation/utils/metrics.py                   |  226 \u001b[32m++++\u001b[m\n",
            " SpeedEstimation/utils/plots.py                     |  447 \u001b[32m++++++++\u001b[m\n",
            " SpeedEstimation/utils/torch_utils.py               |  310 \u001b[32m++++++\u001b[m\n",
            " readme.md                                          |    2 \u001b[32m+\u001b[m\n",
            " 118 files changed, 14738 insertions(+), 1 deletion(-)\n",
            " create mode 100644 DepthEstimation/__pycache__/evaluate_depth.cpython-37.pyc\n",
            " create mode 100644 DepthEstimation/__pycache__/kitti_utils.cpython-37.pyc\n",
            " create mode 100644 DepthEstimation/__pycache__/layers.cpython-37.pyc\n",
            " create mode 100644 DepthEstimation/__pycache__/options.cpython-37.pyc\n",
            " create mode 100644 DepthEstimation/__pycache__/utils.cpython-37.pyc\n",
            " create mode 100644 DepthEstimation/datasets/__init__.py\n",
            " create mode 100644 DepthEstimation/datasets/__pycache__/__init__.cpython-37.pyc\n",
            " create mode 100644 DepthEstimation/datasets/__pycache__/kitti_dataset.cpython-37.pyc\n",
            " create mode 100644 DepthEstimation/datasets/__pycache__/mono_dataset.cpython-37.pyc\n",
            " create mode 100644 DepthEstimation/datasets/kitti_dataset.py\n",
            " create mode 100644 DepthEstimation/datasets/mono_dataset.py\n",
            " create mode 100644 DepthEstimation/distance_estimation.py\n",
            " create mode 100644 DepthEstimation/evaluate_depth.py\n",
            " create mode 100644 DepthEstimation/experiments/cal_speed.sh\n",
            " create mode 100644 DepthEstimation/experiments/run_depth_estimation.sh\n",
            " create mode 100644 DepthEstimation/kitti_utils.py\n",
            " create mode 100644 DepthEstimation/layers.py\n",
            " create mode 100644 DepthEstimation/models/mono+stereo_640x192.zip\n",
            " create mode 100644 DepthEstimation/networks/__init__.py\n",
            " create mode 100644 DepthEstimation/networks/__pycache__/__init__.cpython-37.pyc\n",
            " create mode 100644 DepthEstimation/networks/__pycache__/depth_decoder.cpython-37.pyc\n",
            " create mode 100644 DepthEstimation/networks/__pycache__/pose_cnn.cpython-37.pyc\n",
            " create mode 100644 DepthEstimation/networks/__pycache__/pose_decoder.cpython-37.pyc\n",
            " create mode 100644 DepthEstimation/networks/__pycache__/resnet_encoder.cpython-37.pyc\n",
            " create mode 100644 DepthEstimation/networks/depth_decoder.py\n",
            " create mode 100644 DepthEstimation/networks/pose_cnn.py\n",
            " create mode 100644 DepthEstimation/networks/pose_decoder.py\n",
            " create mode 100644 DepthEstimation/networks/resnet_encoder.py\n",
            " create mode 100644 DepthEstimation/options.py\n",
            " create mode 100644 DepthEstimation/requirements.txt\n",
            " create mode 100644 DepthEstimation/test_simple.py\n",
            " create mode 100644 DepthEstimation/utils.py\n",
            " create mode 100644 ObjectDetection/data/images/bus.jpg\n",
            " create mode 100644 ObjectDetection/data/images/zidane.jpg\n",
            " create mode 100644 ObjectDetection/detect.py\n",
            " create mode 100644 ObjectDetection/models/__pycache__/common.cpython-38.pyc\n",
            " create mode 100644 ObjectDetection/models/__pycache__/experimental.cpython-38.pyc\n",
            " create mode 100644 ObjectDetection/models/__pycache__/yolo.cpython-38.pyc\n",
            " create mode 100644 ObjectDetection/models/common.py\n",
            " create mode 100644 ObjectDetection/models/experimental.py\n",
            " create mode 100644 ObjectDetection/models/yolo.py\n",
            " create mode 100644 ObjectDetection/requirements.txt\n",
            " create mode 100644 ObjectDetection/utils/__pycache__/autoanchor.cpython-38.pyc\n",
            " create mode 100644 ObjectDetection/utils/__pycache__/datasets.cpython-38.pyc\n",
            " create mode 100644 ObjectDetection/utils/__pycache__/general.cpython-38.pyc\n",
            " create mode 100644 ObjectDetection/utils/__pycache__/google_utils.cpython-38.pyc\n",
            " create mode 100644 ObjectDetection/utils/__pycache__/metrics.cpython-38.pyc\n",
            " create mode 100644 ObjectDetection/utils/__pycache__/plots.cpython-38.pyc\n",
            " create mode 100644 ObjectDetection/utils/__pycache__/torch_utils.cpython-38.pyc\n",
            " create mode 100644 ObjectDetection/utils/autoanchor.py\n",
            " create mode 100644 ObjectDetection/utils/datasets.py\n",
            " create mode 100644 ObjectDetection/utils/general.py\n",
            " create mode 100644 ObjectDetection/utils/google_utils.py\n",
            " create mode 100644 ObjectDetection/utils/metrics.py\n",
            " create mode 100644 ObjectDetection/utils/plots.py\n",
            " create mode 100644 ObjectDetection/utils/torch_utils.py\n",
            " create mode 100644 ObjectDetection/yolov5s.pt\n",
            " create mode 100644 SpeedEstimation/datasets/__init__.py\n",
            " create mode 100644 SpeedEstimation/datasets/kitti_dataset.py\n",
            " create mode 100644 SpeedEstimation/datasets/mono_dataset.py\n",
            " create mode 100644 SpeedEstimation/deep_sort_pytorch/.gitignore\n",
            " create mode 100644 SpeedEstimation/deep_sort_pytorch/LICENSE\n",
            " create mode 100644 SpeedEstimation/deep_sort_pytorch/README.md\n",
            " create mode 100644 SpeedEstimation/deep_sort_pytorch/configs/deep_sort.yaml\n",
            " create mode 100644 SpeedEstimation/deep_sort_pytorch/deep_sort/README.md\n",
            " create mode 100644 SpeedEstimation/deep_sort_pytorch/deep_sort/__init__.py\n",
            " create mode 100644 SpeedEstimation/deep_sort_pytorch/deep_sort/deep/__init__.py\n",
            " create mode 100644 SpeedEstimation/deep_sort_pytorch/deep_sort/deep/checkpoint/.gitkeep\n",
            " create mode 100644 SpeedEstimation/deep_sort_pytorch/deep_sort/deep/evaluate.py\n",
            " create mode 100644 SpeedEstimation/deep_sort_pytorch/deep_sort/deep/feature_extractor.py\n",
            " create mode 100644 SpeedEstimation/deep_sort_pytorch/deep_sort/deep/model.py\n",
            " create mode 100644 SpeedEstimation/deep_sort_pytorch/deep_sort/deep/original_model.py\n",
            " create mode 100644 SpeedEstimation/deep_sort_pytorch/deep_sort/deep/test.py\n",
            " create mode 100644 SpeedEstimation/deep_sort_pytorch/deep_sort/deep/train.jpg\n",
            " create mode 100644 SpeedEstimation/deep_sort_pytorch/deep_sort/deep/train.py\n",
            " create mode 100644 SpeedEstimation/deep_sort_pytorch/deep_sort/deep_sort.py\n",
            " create mode 100644 SpeedEstimation/deep_sort_pytorch/deep_sort/sort/__init__.py\n",
            " create mode 100644 SpeedEstimation/deep_sort_pytorch/deep_sort/sort/detection.py\n",
            " create mode 100644 SpeedEstimation/deep_sort_pytorch/deep_sort/sort/iou_matching.py\n",
            " create mode 100644 SpeedEstimation/deep_sort_pytorch/deep_sort/sort/kalman_filter.py\n",
            " create mode 100644 SpeedEstimation/deep_sort_pytorch/deep_sort/sort/linear_assignment.py\n",
            " create mode 100644 SpeedEstimation/deep_sort_pytorch/deep_sort/sort/nn_matching.py\n",
            " create mode 100644 SpeedEstimation/deep_sort_pytorch/deep_sort/sort/preprocessing.py\n",
            " create mode 100644 SpeedEstimation/deep_sort_pytorch/deep_sort/sort/track.py\n",
            " create mode 100644 SpeedEstimation/deep_sort_pytorch/deep_sort/sort/tracker.py\n",
            " create mode 100644 SpeedEstimation/deep_sort_pytorch/utils/__init__.py\n",
            " create mode 100644 SpeedEstimation/deep_sort_pytorch/utils/asserts.py\n",
            " create mode 100644 SpeedEstimation/deep_sort_pytorch/utils/draw.py\n",
            " create mode 100644 SpeedEstimation/deep_sort_pytorch/utils/evaluation.py\n",
            " create mode 100644 SpeedEstimation/deep_sort_pytorch/utils/io.py\n",
            " create mode 100644 SpeedEstimation/deep_sort_pytorch/utils/json_logger.py\n",
            " create mode 100644 SpeedEstimation/deep_sort_pytorch/utils/log.py\n",
            " create mode 100644 SpeedEstimation/deep_sort_pytorch/utils/parser.py\n",
            " create mode 100644 SpeedEstimation/deep_sort_pytorch/utils/tools.py\n",
            " create mode 100644 SpeedEstimation/distance.py\n",
            " create mode 100644 SpeedEstimation/experiments/run.sh\n",
            " create mode 100644 SpeedEstimation/kitti_utils.py\n",
            " create mode 100644 SpeedEstimation/layers.py\n",
            " create mode 100644 SpeedEstimation/main.py\n",
            " create mode 100644 SpeedEstimation/models/common.py\n",
            " create mode 100644 SpeedEstimation/models/experimental.py\n",
            " create mode 100644 SpeedEstimation/models/yolo.py\n",
            " create mode 100644 SpeedEstimation/networks/__init__.py\n",
            " create mode 100644 SpeedEstimation/networks/depth_decoder.py\n",
            " create mode 100644 SpeedEstimation/networks/pose_cnn.py\n",
            " create mode 100644 SpeedEstimation/networks/pose_decoder.py\n",
            " create mode 100644 SpeedEstimation/networks/resnet_encoder.py\n",
            " create mode 100644 SpeedEstimation/options.py\n",
            " create mode 100644 SpeedEstimation/util.py\n",
            " create mode 100644 SpeedEstimation/utils/autoanchor.py\n",
            " create mode 100644 SpeedEstimation/utils/datasets.py\n",
            " create mode 100644 SpeedEstimation/utils/general.py\n",
            " create mode 100644 SpeedEstimation/utils/google_utils.py\n",
            " create mode 100644 SpeedEstimation/utils/metrics.py\n",
            " create mode 100644 SpeedEstimation/utils/plots.py\n",
            " create mode 100644 SpeedEstimation/utils/torch_utils.py\n",
            " create mode 100644 readme.md\n"
          ],
          "name": "stdout"
        }
      ]
    },
    {
      "cell_type": "code",
      "metadata": {
        "colab": {
          "base_uri": "https://localhost:8080/"
        },
        "id": "SxESRW9Fi5Fi",
        "outputId": "c02160d2-f73e-4a35-d906-cc39a2085fdf"
      },
      "source": [
        "%cd /content/SCSE/SpeedEstimation\n",
        "!python main.py --weights ../ObjectDetection/yolov5s.pt --conf 0.5 --source road.mp4 --model_name mono+stereo_640x192"
      ],
      "execution_count": null,
      "outputs": [
        {
          "output_type": "stream",
          "text": [
            "/content/SCSE/SpeedEstimation\n",
            "Namespace(agnostic_nms=False, augment=False, classes=None, conf_thres=0.5, device='', exist_ok=False, fps=30, half=False, hide_conf=False, hide_labels=False, imgsz=640, iou_thres=0.45, line_thickness=3, max_det=1000, model_name='mono+stereo_640x192', name='exp', no_cuda=False, nosave=False, pred_metric_depth=False, project='runs/detect', save_conf=False, save_crop=False, save_txt=False, source='road.mp4', update=False, view_img=False, weights=['../ObjectDetection/yolov5s.pt'])\n",
            "\u001b[31m\u001b[1mrequirements:\u001b[0m /content/SCSE/SpeedEstimation/requirements.txt not found, check failed.\n",
            "YOLOv5 🚀 a141e89 torch 1.8.1+cu101 CPU\n",
            "\n",
            "-> Loading model from  models/mono+stereo_640x192\n",
            "   Loading pretrained encoder\n",
            "   Loading pretrained decoder\n",
            "/content/SCSE/SpeedEstimation/deep_sort_pytorch/utils/parser.py:24: YAMLLoadWarning: calling yaml.load() without Loader=... is deprecated, as the default Loader is unsafe. Please read https://msg.pyyaml.org/load for full details.\n",
            "  self.update(yaml.load(fo.read()))\n",
            "Loading weights from deep_sort_pytorch/deep_sort/deep/checkpoint/ckpt.t7... Done!\n",
            "Fusing layers... \n",
            "Model Summary: 224 layers, 7266973 parameters, 0 gradients\n",
            "video 1/1 (1/38) /content/SCSE/SpeedEstimation/road.mp4: 384x640 2 cars, Done. (0.308s)\n",
            "video 1/1 (2/38) /content/SCSE/SpeedEstimation/road.mp4: 384x640 2 cars, Done. (0.299s)\n",
            "video 1/1 (3/38) /content/SCSE/SpeedEstimation/road.mp4: 384x640 2 cars, Done. (0.293s)\n",
            "video 1/1 (4/38) /content/SCSE/SpeedEstimation/road.mp4: 384x640 2 cars, Done. (0.280s)\n",
            "video 1/1 (5/38) /content/SCSE/SpeedEstimation/road.mp4: 384x640 2 cars, Done. (0.286s)\n",
            "video 1/1 (6/38) /content/SCSE/SpeedEstimation/road.mp4: 384x640 2 cars, Done. (0.283s)\n",
            "video 1/1 (7/38) /content/SCSE/SpeedEstimation/road.mp4: 384x640 2 cars, Done. (0.298s)\n",
            "video 1/1 (8/38) /content/SCSE/SpeedEstimation/road.mp4: 384x640 2 cars, Done. (0.285s)\n",
            "video 1/1 (9/38) /content/SCSE/SpeedEstimation/road.mp4: 384x640 2 cars, Done. (0.288s)\n",
            "video 1/1 (10/38) /content/SCSE/SpeedEstimation/road.mp4: 384x640 2 cars, Done. (0.297s)\n",
            "video 1/1 (11/38) /content/SCSE/SpeedEstimation/road.mp4: 384x640 2 cars, Done. (0.292s)\n",
            "video 1/1 (12/38) /content/SCSE/SpeedEstimation/road.mp4: 384x640 2 cars, Done. (0.286s)\n",
            "video 1/1 (13/38) /content/SCSE/SpeedEstimation/road.mp4: 384x640 2 cars, Done. (0.284s)\n",
            "video 1/1 (14/38) /content/SCSE/SpeedEstimation/road.mp4: 384x640 2 cars, Done. (0.283s)\n",
            "video 1/1 (15/38) /content/SCSE/SpeedEstimation/road.mp4: 384x640 2 cars, Done. (0.298s)\n",
            "video 1/1 (16/38) /content/SCSE/SpeedEstimation/road.mp4: 384x640 2 cars, Done. (0.281s)\n",
            "video 1/1 (17/38) /content/SCSE/SpeedEstimation/road.mp4: 384x640 2 cars, Done. (0.284s)\n",
            "video 1/1 (18/38) /content/SCSE/SpeedEstimation/road.mp4: 384x640 2 cars, Done. (0.285s)\n",
            "video 1/1 (19/38) /content/SCSE/SpeedEstimation/road.mp4: 384x640 3 cars, Done. (0.288s)\n",
            "video 1/1 (20/38) /content/SCSE/SpeedEstimation/road.mp4: 384x640 2 cars, Done. (0.285s)\n",
            "video 1/1 (21/38) /content/SCSE/SpeedEstimation/road.mp4: 384x640 2 cars, Done. (0.295s)\n",
            "video 1/1 (22/38) /content/SCSE/SpeedEstimation/road.mp4: 384x640 2 cars, Done. (0.288s)\n",
            "video 1/1 (23/38) /content/SCSE/SpeedEstimation/road.mp4: 384x640 2 cars, Done. (0.284s)\n",
            "video 1/1 (24/38) /content/SCSE/SpeedEstimation/road.mp4: 384x640 2 cars, Done. (0.282s)\n",
            "video 1/1 (25/38) /content/SCSE/SpeedEstimation/road.mp4: 384x640 2 cars, Done. (0.274s)\n",
            "video 1/1 (26/38) /content/SCSE/SpeedEstimation/road.mp4: 384x640 2 cars, Done. (0.292s)\n",
            "video 1/1 (27/38) /content/SCSE/SpeedEstimation/road.mp4: 384x640 2 cars, Done. (0.281s)\n",
            "video 1/1 (28/38) /content/SCSE/SpeedEstimation/road.mp4: 384x640 2 cars, Done. (0.282s)\n",
            "video 1/1 (29/38) /content/SCSE/SpeedEstimation/road.mp4: 384x640 2 cars, Done. (0.280s)\n",
            "video 1/1 (30/38) /content/SCSE/SpeedEstimation/road.mp4: 384x640 2 cars, Done. (0.282s)\n",
            "video 1/1 (31/38) /content/SCSE/SpeedEstimation/road.mp4: 384x640 2 cars, Done. (0.283s)\n",
            "video 1/1 (32/38) /content/SCSE/SpeedEstimation/road.mp4: 384x640 2 cars, Done. (0.292s)\n",
            "video 1/1 (33/38) /content/SCSE/SpeedEstimation/road.mp4: 384x640 2 cars, Done. (0.281s)\n",
            "video 1/1 (34/38) /content/SCSE/SpeedEstimation/road.mp4: 384x640 2 cars, Done. (0.288s)\n",
            "video 1/1 (35/38) /content/SCSE/SpeedEstimation/road.mp4: 384x640 2 cars, Done. (0.277s)\n",
            "video 1/1 (36/38) /content/SCSE/SpeedEstimation/road.mp4: 384x640 2 cars, Done. (0.288s)\n",
            "video 1/1 (37/38) /content/SCSE/SpeedEstimation/road.mp4: 384x640 2 cars, Done. (0.284s)\n",
            "Results saved to runs/detect/exp4\n",
            "Done. (19.116s)\n"
          ],
          "name": "stdout"
        }
      ]
    }
  ]
}