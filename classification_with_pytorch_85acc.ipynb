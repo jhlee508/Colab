{
  "nbformat": 4,
  "nbformat_minor": 0,
  "metadata": {
    "kernelspec": {
      "name": "python3",
      "display_name": "Python 3",
      "language": "python"
    },
    "language_info": {
      "name": "python",
      "version": "3.7.6",
      "mimetype": "text/x-python",
      "codemirror_mode": {
        "name": "ipython",
        "version": 3
      },
      "pygments_lexer": "ipython3",
      "nbconvert_exporter": "python",
      "file_extension": ".py"
    },
    "colab": {
      "name": "classification-with-pytorch-85acc.ipynb",
      "provenance": [],
      "collapsed_sections": [],
      "machine_shape": "hm",
      "include_colab_link": true
    },
    "accelerator": "GPU"
  },
  "cells": [
    {
      "cell_type": "markdown",
      "metadata": {
        "id": "view-in-github",
        "colab_type": "text"
      },
      "source": [
        "<a href=\"https://colab.research.google.com/github/jhlee508/Colab/blob/master/classification_with_pytorch_85acc.ipynb\" target=\"_parent\"><img src=\"https://colab.research.google.com/assets/colab-badge.svg\" alt=\"Open In Colab\"/></a>"
      ]
    },
    {
      "cell_type": "markdown",
      "metadata": {
        "id": "UCGrxiTqtX05"
      },
      "source": [
        "## Classification using the CNN pyTorch"
      ]
    },
    {
      "cell_type": "markdown",
      "metadata": {
        "id": "DFyABQg_vmaA"
      },
      "source": [
        "**Mounting Drive**"
      ]
    },
    {
      "cell_type": "code",
      "metadata": {
        "colab": {
          "base_uri": "https://localhost:8080/"
        },
        "id": "GNMfpRKsvGuX",
        "outputId": "06cc1af7-b438-4339-e7bc-f2c1efb2d309"
      },
      "source": [
        "from google.colab import drive\n",
        "drive.mount('/content/drive')"
      ],
      "execution_count": 1,
      "outputs": [
        {
          "output_type": "stream",
          "name": "stdout",
          "text": [
            "Mounted at /content/drive\n"
          ]
        }
      ]
    },
    {
      "cell_type": "markdown",
      "metadata": {
        "id": "EJqo-Kanvt0Y"
      },
      "source": [
        "**Seed Setting**"
      ]
    },
    {
      "cell_type": "code",
      "metadata": {
        "id": "cVXXQ-48vuE4"
      },
      "source": [
        "import torch\n",
        "import numpy as np\n",
        "import random\n",
        "import os\n",
        "\n",
        "def my_seed_everywhere(seed: int = 42):\n",
        "    random.seed(seed) # random\n",
        "    np.random.seed(seed) # numpy\n",
        "    os.environ[\"PYTHONHASHSEED\"] = str(seed) # os\n",
        "    # pytorch\n",
        "    torch.manual_seed(seed)\n",
        "    torch.cuda.manual_seed(seed) \n",
        "    torch.backends.cudnn.deterministic = True \n",
        "    torch.backends.cudnn.benchmark = False \n",
        "\n",
        "my_seed = 42\n",
        "my_seed_everywhere(my_seed)"
      ],
      "execution_count": 4,
      "outputs": []
    },
    {
      "cell_type": "markdown",
      "metadata": {
        "_uuid": "8f2839f25d086af736a60e9eeb907d3b93b6e0e5",
        "_cell_guid": "b1076dfc-b9ad-4769-8c92-a6c4dae69d19",
        "trusted": true,
        "id": "7yOX21nTtX09"
      },
      "source": [
        "Importing libraries"
      ]
    },
    {
      "cell_type": "code",
      "metadata": {
        "_uuid": "d629ff2d2480ee46fbb7e2d37f6b5fab8052498a",
        "_cell_guid": "79c7e3d0-c299-4dcb-8224-4455121ee9b0",
        "trusted": true,
        "id": "dlHcB8rttX0-"
      },
      "source": [
        "import matplotlib.pyplot as plt\n",
        "import numpy as np\n",
        "import PIL\n",
        "import torch\n",
        "import torch.nn as nn\n",
        "import torch.optim as optim\n",
        "import torchvision\n",
        "import torchvision.datasets as dset\n",
        "from torch.utils.data.sampler import SubsetRandomSampler\n",
        "import torch.nn.functional as F\n",
        "import os\n",
        "from torchvision import transforms\n",
        "from sklearn.metrics import roc_curve, auc"
      ],
      "execution_count": 5,
      "outputs": []
    },
    {
      "cell_type": "markdown",
      "metadata": {
        "id": "BPjKclpXtX0_"
      },
      "source": [
        "Make the transformer that includes RandomRotation, ToTensor and Normalize steps. "
      ]
    },
    {
      "cell_type": "code",
      "metadata": {
        "trusted": true,
        "id": "orKoC1HEtX0_"
      },
      "source": [
        "data_transforms = transforms.Compose([\n",
        "            #transforms.RandomRotation(90, resample=PIL.Image.BILINEAR),\n",
        "            #transforms.RandomApply((transforms.RandomHorizontalFlip(.5), \n",
        "            #                        transforms.RandomVerticalFlip(.5)), p=0.5),\n",
        "            transforms.ToTensor(), \n",
        "            transforms.Normalize([0.5, 0.5, 0.5], [0.5, 0.5, 0.5])\n",
        "    ])"
      ],
      "execution_count": 6,
      "outputs": []
    },
    {
      "cell_type": "markdown",
      "metadata": {
        "id": "vi7QwRsBtX1A"
      },
      "source": [
        "Using pyTorch datasets read the train/test samples and split train set to train and validation sets. "
      ]
    },
    {
      "cell_type": "code",
      "metadata": {
        "trusted": true,
        "id": "acUMJ-fCtX1A"
      },
      "source": [
        "trainset = dset.ImageFolder('/content/drive/Shareddrives/SKKU-URP-GAN/all/train', \n",
        "                            transform=data_transforms)\n",
        "testset = dset.ImageFolder('/content/drive/Shareddrives/SKKU-URP-GAN/all/test', \n",
        "                           transform=data_transforms)\n",
        "\n",
        "\n",
        "data_size = len(trainset.samples)\n",
        "validation_split = .2\n",
        "split = int(np.floor(validation_split * data_size))\n",
        "indices = list(range(data_size))\n",
        "np.random.shuffle(indices)\n",
        "batch_size = 8\n",
        "train_indices, val_indices = indices[split:], indices[:split]\n",
        "\n",
        "\n",
        "train_sampler = SubsetRandomSampler(train_indices)\n",
        "val_sampler = SubsetRandomSampler(val_indices)\n",
        "\n",
        "\n",
        "train_loader = torch.utils.data.DataLoader(trainset, batch_size=batch_size, \n",
        "                                           sampler=train_sampler)\n",
        "val_loader = torch.utils.data.DataLoader(trainset, batch_size=batch_size,\n",
        "                                         sampler=val_sampler)\n",
        "\n",
        "\n",
        "test_loader = torch.utils.data.DataLoader(testset, batch_size=batch_size)"
      ],
      "execution_count": 7,
      "outputs": []
    },
    {
      "cell_type": "markdown",
      "metadata": {
        "id": "nf_P5TSotX1B"
      },
      "source": [
        "Make Flattener object"
      ]
    },
    {
      "cell_type": "code",
      "metadata": {
        "trusted": true,
        "id": "9unHAmvGtX1B"
      },
      "source": [
        "class Flattener(nn.Module):\n",
        "    def forward(self, x):\n",
        "        batch_size, *_ = x.shape\n",
        "        return x.view(batch_size, -1)"
      ],
      "execution_count": 8,
      "outputs": []
    },
    {
      "cell_type": "markdown",
      "metadata": {
        "id": "V4rcAguttX1C"
      },
      "source": [
        "Function for training model, computing accuracy and plotting train/val curves."
      ]
    },
    {
      "cell_type": "code",
      "metadata": {
        "trusted": true,
        "colab": {
          "base_uri": "https://localhost:8080/"
        },
        "id": "kGr5iecStX1C",
        "outputId": "d2f0d10e-e4fd-4903-c5d0-6fab5ac843f7"
      },
      "source": [
        "USE_GPU = True\n",
        "\n",
        "if USE_GPU and torch.cuda.is_available():\n",
        "    print('using device: cuda')\n",
        "else:\n",
        "    print('using device: cpu')"
      ],
      "execution_count": 9,
      "outputs": [
        {
          "output_type": "stream",
          "name": "stdout",
          "text": [
            "using device: cuda\n"
          ]
        }
      ]
    },
    {
      "cell_type": "code",
      "metadata": {
        "trusted": true,
        "id": "aXVurlhztX1D"
      },
      "source": [
        "def train_model(model, train_loader, val_loader, loss, optimizer, num_epochs):    \n",
        "    loss_history = []\n",
        "    train_history = []\n",
        "    val_history = []\n",
        "    \n",
        "\n",
        "    for epoch in range(num_epochs):\n",
        "        model.train() # Enter train mode\n",
        "        \n",
        "        loss_accum = 0\n",
        "        correct_samples = 0\n",
        "        total_samples = 0\n",
        "\n",
        "        for i_step, (x, y) in enumerate(train_loader):\n",
        "            \n",
        "            x_gpu = x.to(device)\n",
        "            y_gpu = y.to(device)\n",
        "            prediction = model(x_gpu)    \n",
        "            loss_value = loss(prediction, y_gpu)\n",
        "            optimizer.zero_grad()\n",
        "            loss_value.backward()\n",
        "            optimizer.step()\n",
        "            \n",
        "            _, indices = torch.max(prediction, 1)\n",
        "            correct_samples += torch.sum(indices == y_gpu)\n",
        "            total_samples += y.shape[0]\n",
        "            loss_accum += loss_value\n",
        "\n",
        "        ave_loss = loss_accum / i_step\n",
        "        train_accuracy = float(correct_samples) / total_samples\n",
        "        val_accuracy = compute_accuracy(model, val_loader)\n",
        "        \n",
        "        loss_history.append(float(ave_loss))\n",
        "        train_history.append(train_accuracy)\n",
        "        val_history.append(val_accuracy)\n",
        "        \n",
        "        print(f\"Average loss: {ave_loss}, \\\n",
        "            Train accuracy: {train_accuracy}, \\\n",
        "            Val accuracy: {val_accuracy}\")\n",
        "        \n",
        "    return loss_history, train_history, val_history\n",
        "        \n",
        "def compute_accuracy(model, loader, auc=False):\n",
        "    model.eval() \n",
        "    correct_samples = 0\n",
        "    total_samples = 0\n",
        "    y_true, y_pred = [], []\n",
        "    for (x, y) in loader:\n",
        "      \n",
        "        x_gpu = x.to(device)\n",
        "        y_gpu = y.to(device)\n",
        "        prediction = model(x_gpu)    \n",
        "        indices = torch.argmax(prediction, 1)\n",
        "        fpr, tpr, _ = roc_curve(y_gpu.cpu().detach().numpy(), indices.cpu().detach().numpy())\n",
        "\n",
        "        correct_samples += torch.sum(indices == y_gpu)\n",
        "        total_samples += y_gpu.shape[0]\n",
        "        accuracy = float(correct_samples) / total_samples\n",
        "        torch.cuda.get_device_name(0)\n",
        "        if auc:\n",
        "            y_true.extend(y_gpu.cpu().detach().numpy())\n",
        "            y_pred.extend(indices.cpu().detach().numpy())\n",
        "    if auc:\n",
        "        return accuracy, y_true, y_pred\n",
        "    else: \n",
        "        return accuracy\n",
        "    \n",
        "    \n",
        "\n",
        "    return accuracy, y_true, y_pred\n",
        "\n",
        "def loss_accuracy_plot(loss_history, train_history, val_history):\n",
        "    plt.figure(figsize=(10, 9))\n",
        "    plt.subplot(311)\n",
        "    # plt.ylim(bottom=0)\n",
        "    plt.title(\"Loss\")\n",
        "    plt.plot(loss_history)\n",
        "    plt.subplot(312)\n",
        "    plt.ylim((.5, 1))\n",
        "    plt.title(\"Train/validation accuracy\")\n",
        "    plt.plot(train_history, label=\"train\")\n",
        "    plt.plot(val_history, label=\"validation\")\n",
        "\n",
        "    plt.legend();"
      ],
      "execution_count": 34,
      "outputs": []
    },
    {
      "cell_type": "markdown",
      "metadata": {
        "id": "FI1bAiVmtX1E"
      },
      "source": [
        "Creating the model, defining loss and optimizer for training procedure. "
      ]
    },
    {
      "cell_type": "code",
      "metadata": {
        "trusted": true,
        "colab": {
          "base_uri": "https://localhost:8080/"
        },
        "id": "Wk9DNUwltX1E",
        "outputId": "373ee2f8-f9c4-43d6-c15f-ad01249c4bd2"
      },
      "source": [
        "device = torch.device('cuda')\n",
        "# torch.set_num_threads(16)\n",
        "print(torch.cuda.get_device_name(0))\n",
        "\n",
        "nn_model = nn.Sequential(\n",
        "            nn.Conv2d(3, 64, 3, padding=1),\n",
        "            nn.BatchNorm2d(64),\n",
        "            nn.ReLU(inplace=True),\n",
        "            nn.MaxPool2d(4),\n",
        "            nn.Conv2d(64, 64, 3, padding=1),\n",
        "            nn.ReLU(inplace=True),\n",
        "            nn.MaxPool2d(24),    \n",
        "            Flattener(),\n",
        "            nn.Linear(64*2*2, 2),\n",
        "          )\n",
        "\n",
        "device = torch.device(\"cuda\" if torch.cuda.is_available else \"cpu\")\n",
        "nn_model.type(torch.cuda.FloatTensor)\n",
        "\n",
        "nn_model.to(device)\n",
        "\n",
        "loss = nn.CrossEntropyLoss().type(torch.cuda.FloatTensor)\n",
        "\n",
        "# optimizer = optim.SGD(nn_model.parameters(), lr=1e-3, weight_decay=1e-4)\n",
        "optimizer = optim.Adam(nn_model.parameters(), lr=0.001, \n",
        "                       betas=(0.9, 0.999), eps=1e-08, \n",
        "                       weight_decay=0.0001, amsgrad=False)"
      ],
      "execution_count": 35,
      "outputs": [
        {
          "output_type": "stream",
          "name": "stdout",
          "text": [
            "Tesla P100-PCIE-16GB\n"
          ]
        }
      ]
    },
    {
      "cell_type": "markdown",
      "metadata": {
        "id": "yi59uMmStX1F"
      },
      "source": [
        "Curves, accuracy"
      ]
    },
    {
      "cell_type": "code",
      "metadata": {
        "trusted": true,
        "colab": {
          "base_uri": "https://localhost:8080/",
          "height": 1000
        },
        "id": "ltWnT_JStX1F",
        "outputId": "c1bbbd21-42d5-453a-9fbd-f6f330545b06"
      },
      "source": [
        "loss_history, train_history, val_history = train_model(nn_model, \n",
        "                                                       train_loader, \n",
        "                                                       val_loader, \n",
        "                                                       loss, \n",
        "                                                       optimizer, 30)\n",
        "\n",
        "loss_accuracy_plot(loss_history, train_history, val_history)\n",
        "\n",
        "print('Finished!')\n",
        "\n",
        "test_accuracy, y_true, y_pred = compute_accuracy(nn_model, test_loader, auc=True)\n",
        "\n",
        "fpr, tpr, _ = roc_curve(y_true, y_pred)\n",
        "auc_rate = auc(fpr, tpr)\n",
        "\n",
        "\n",
        "print(f'Final accuracy on the test set is: {test_accuracy}; auc is: {auc_rate}')"
      ],
      "execution_count": 36,
      "outputs": [
        {
          "output_type": "stream",
          "name": "stdout",
          "text": [
            "Average loss: 0.48776477575302124,             Train accuracy: 0.7639810426540284,             Val accuracy: 0.8216318785578748\n",
            "Average loss: 0.3945046365261078,             Train accuracy: 0.8104265402843602,             Val accuracy: 0.8425047438330171\n"
          ]
        },
        {
          "output_type": "stream",
          "name": "stderr",
          "text": [
            "/usr/local/lib/python3.7/dist-packages/sklearn/metrics/_ranking.py:808: UndefinedMetricWarning: No positive samples in y_true, true positive value should be meaningless\n",
            "  UndefinedMetricWarning)\n"
          ]
        },
        {
          "output_type": "stream",
          "name": "stdout",
          "text": [
            "Average loss: 0.3701006770133972,             Train accuracy: 0.8227488151658767,             Val accuracy: 0.8406072106261859\n",
            "Average loss: 0.35012251138687134,             Train accuracy: 0.8274881516587678,             Val accuracy: 0.8633776091081594\n",
            "Average loss: 0.34182173013687134,             Train accuracy: 0.8412322274881516,             Val accuracy: 0.8652751423149905\n"
          ]
        },
        {
          "output_type": "stream",
          "name": "stderr",
          "text": [
            "/usr/local/lib/python3.7/dist-packages/sklearn/metrics/_ranking.py:800: UndefinedMetricWarning: No negative samples in y_true, false positive value should be meaningless\n",
            "  UndefinedMetricWarning)\n"
          ]
        },
        {
          "output_type": "stream",
          "name": "stdout",
          "text": [
            "Average loss: 0.3297426402568817,             Train accuracy: 0.8440758293838863,             Val accuracy: 0.8690702087286527\n",
            "Average loss: 0.32553809881210327,             Train accuracy: 0.8502369668246446,             Val accuracy: 0.8785578747628083\n",
            "Average loss: 0.30970093607902527,             Train accuracy: 0.8549763033175355,             Val accuracy: 0.8671726755218216\n",
            "Average loss: 0.30652350187301636,             Train accuracy: 0.8545023696682464,             Val accuracy: 0.857685009487666\n",
            "Average loss: 0.3046751320362091,             Train accuracy: 0.8663507109004739,             Val accuracy: 0.8823529411764706\n",
            "Average loss: 0.2894839644432068,             Train accuracy: 0.871563981042654,             Val accuracy: 0.8406072106261859\n",
            "Average loss: 0.28569650650024414,             Train accuracy: 0.8710900473933649,             Val accuracy: 0.872865275142315\n",
            "Average loss: 0.25644078850746155,             Train accuracy: 0.8834123222748815,             Val accuracy: 0.8633776091081594\n",
            "Average loss: 0.2567000985145569,             Train accuracy: 0.8890995260663507,             Val accuracy: 0.8652751423149905\n",
            "Average loss: 0.2637704908847809,             Train accuracy: 0.8815165876777251,             Val accuracy: 0.8804554079696395\n",
            "Average loss: 0.23123635351657867,             Train accuracy: 0.8990521327014218,             Val accuracy: 0.8690702087286527\n",
            "Average loss: 0.23361808061599731,             Train accuracy: 0.9018957345971564,             Val accuracy: 0.8747628083491461\n",
            "Average loss: 0.21235553920269012,             Train accuracy: 0.909478672985782,             Val accuracy: 0.8652751423149905\n",
            "Average loss: 0.1945914924144745,             Train accuracy: 0.9199052132701422,             Val accuracy: 0.8538899430740038\n",
            "Average loss: 0.21865376830101013,             Train accuracy: 0.909952606635071,             Val accuracy: 0.8595825426944972\n",
            "Average loss: 0.19443003833293915,             Train accuracy: 0.9232227488151659,             Val accuracy: 0.8481973434535104\n",
            "Average loss: 0.18363218009471893,             Train accuracy: 0.9180094786729858,             Val accuracy: 0.8652751423149905\n",
            "Average loss: 0.1828865110874176,             Train accuracy: 0.9222748815165877,             Val accuracy: 0.8538899430740038\n",
            "Average loss: 0.17139390110969543,             Train accuracy: 0.933175355450237,             Val accuracy: 0.8425047438330171\n",
            "Average loss: 0.16776712238788605,             Train accuracy: 0.9293838862559242,             Val accuracy: 0.8595825426944972\n",
            "Average loss: 0.14509527385234833,             Train accuracy: 0.9412322274881516,             Val accuracy: 0.872865275142315\n",
            "Average loss: 0.1677171289920807,             Train accuracy: 0.9270142180094787,             Val accuracy: 0.8444022770398482\n",
            "Average loss: 0.1451970338821411,             Train accuracy: 0.9407582938388626,             Val accuracy: 0.8387096774193549\n",
            "Average loss: 0.1458619087934494,             Train accuracy: 0.9450236966824644,             Val accuracy: 0.8519924098671727\n",
            "Average loss: 0.14079061150550842,             Train accuracy: 0.9412322274881516,             Val accuracy: 0.8652751423149905\n",
            "Finished!\n",
            "Final accuracy on the test set is: 0.8242424242424242; auc is: 0.8236111111111111\n"
          ]
        },
        {
          "output_type": "display_data",
          "data": {
            "image/png": "[encoded data removed]",
            "text/plain": [
              "<Figure size 720x648 with 2 Axes>"
            ]
          },
          "metadata": {
            "needs_background": "light"
          }
        }
      ]
    },
    {
      "cell_type": "code",
      "metadata": {
        "trusted": true,
        "colab": {
          "base_uri": "https://localhost:8080/"
        },
        "id": "jvVfN5fEtX1F",
        "outputId": "2fa145ed-ea20-4b40-8910-26425dee66a3"
      },
      "source": [
        "test_accuracy, y_true, y_pred = compute_accuracy(nn_model, test_loader, auc=True)\n",
        "\n",
        "fpr, tpr, _ = roc_curve(y_true, y_pred)\n",
        "auc_rate = auc(fpr, tpr)\n",
        "\n",
        "\n",
        "print(f'Final accuracy on the test set is: {test_accuracy}; auc is: {auc_rate}')"
      ],
      "execution_count": 37,
      "outputs": [
        {
          "output_type": "stream",
          "name": "stderr",
          "text": [
            "/usr/local/lib/python3.7/dist-packages/sklearn/metrics/_ranking.py:808: UndefinedMetricWarning: No positive samples in y_true, true positive value should be meaningless\n",
            "  UndefinedMetricWarning)\n",
            "/usr/local/lib/python3.7/dist-packages/sklearn/metrics/_ranking.py:800: UndefinedMetricWarning: No negative samples in y_true, false positive value should be meaningless\n",
            "  UndefinedMetricWarning)\n"
          ]
        },
        {
          "output_type": "stream",
          "name": "stdout",
          "text": [
            "Final accuracy on the test set is: 0.8242424242424242; auc is: 0.8236111111111111\n"
          ]
        }
      ]
    },
    {
      "cell_type": "code",
      "metadata": {
        "trusted": true,
        "id": "7ZuQZH70tX1F"
      },
      "source": [
        ""
      ],
      "execution_count": null,
      "outputs": []
    }
  ]
}