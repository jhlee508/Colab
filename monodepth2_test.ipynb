{
  "nbformat": 4,
  "nbformat_minor": 0,
  "metadata": {
    "colab": {
      "name": "monodepth2_test.ipynb",
      "provenance": [],
      "machine_shape": "hm",
      "authorship_tag": "ABX9TyP0P0H/tt8Pg60h0NbYazo1",
      "include_colab_link": true
    },
    "kernelspec": {
      "name": "python3",
      "display_name": "Python 3"
    },
    "language_info": {
      "name": "python"
    },
    "accelerator": "GPU"
  },
  "cells": [
    {
      "cell_type": "markdown",
      "metadata": {
        "id": "view-in-github",
        "colab_type": "text"
      },
      "source": [
        "<a href=\"https://colab.research.google.com/github/jhlee508/Colab/blob/master/monodepth2_test.ipynb\" target=\"_parent\"><img src=\"https://colab.research.google.com/assets/colab-badge.svg\" alt=\"Open In Colab\"/></a>"
      ]
    },
    {
      "cell_type": "code",
      "metadata": {
        "colab": {
          "base_uri": "https://localhost:8080/"
        },
        "id": "1cn4vn7sq9NV",
        "outputId": "eb4ef61d-dc47-4eb3-fa5f-9683e86aea0c"
      },
      "source": [
        "%cd /content\n",
        "!git clone https://github.com/nianticlabs/monodepth2.git"
      ],
      "execution_count": null,
      "outputs": [
        {
          "output_type": "stream",
          "text": [
            "/content\n",
            "Cloning into 'monodepth2'...\n",
            "remote: Enumerating objects: 168, done.\u001b[K\n",
            "remote: Counting objects: 100% (20/20), done.\u001b[K\n",
            "remote: Compressing objects: 100% (17/17), done.\u001b[K\n",
            "remote: Total 168 (delta 5), reused 8 (delta 2), pack-reused 148\u001b[K\n",
            "Receiving objects: 100% (168/168), 10.27 MiB | 20.59 MiB/s, done.\n",
            "Resolving deltas: 100% (76/76), done.\n"
          ],
          "name": "stdout"
        }
      ]
    },
    {
      "cell_type": "code",
      "metadata": {
        "colab": {
          "base_uri": "https://localhost:8080/"
        },
        "id": "dqdgYRqRrY0x",
        "outputId": "c7bf0a4e-fbb0-4927-ee0e-ed0e5ba8c6c5"
      },
      "source": [
        "%cd /content/monodepth2/\n",
        "\n",
        "!python test_simple.py --image_path /content/traffic_road.png --model_name mono+stereo_640x192"
      ],
      "execution_count": null,
      "outputs": [
        {
          "output_type": "stream",
          "text": [
            "/content/monodepth2\n",
            "-> Loading model from  models/mono+stereo_640x192\n",
            "   Loading pretrained encoder\n",
            "   Loading pretrained decoder\n",
            "-> Predicting on 1 test images\n",
            "   Processed 1 of 1 images - saved predictions to:\n",
            "   - /content/traffic_road_disp.jpeg\n",
            "   - /content/traffic_road_disp.npy\n",
            "-> Done!\n"
          ],
          "name": "stdout"
        }
      ]
    },
    {
      "cell_type": "code",
      "metadata": {
        "colab": {
          "base_uri": "https://localhost:8080/"
        },
        "id": "07iFM46jr-vW",
        "outputId": "449fa1e9-8aec-49da-c6ed-414d0c4c514d"
      },
      "source": [
        "import numpy as np\n",
        " \n",
        "loaded_np = np.load('/content/monodepth2/assets/test_image_disp.npy')"
      ],
      "execution_count": null,
      "outputs": [
        {
          "output_type": "stream",
          "text": [
            "[[[[0.12934329 0.12929967 0.12892713 ... 0.12347565 0.12352461\n",
            "    0.12392287]\n",
            "   [0.13037105 0.13050522 0.13000408 ... 0.12349929 0.12353949\n",
            "    0.12394629]\n",
            "   [0.1321505  0.13215263 0.13163452 ... 0.12379052 0.1239347\n",
            "    0.12426936]\n",
            "   ...\n",
            "   [0.9838709  0.97366035 0.9677814  ... 0.98292506 0.98619455\n",
            "    0.9893084 ]\n",
            "   [0.9907972  0.9805247  0.9747227  ... 0.9930256  0.996079\n",
            "    0.9992736 ]\n",
            "   [0.9972511  0.9867129  0.9797511  ... 1.0000885  1.0034163\n",
            "    1.0063726 ]]]]\n"
          ],
          "name": "stdout"
        }
      ]
    },
    {
      "cell_type": "code",
      "metadata": {
        "colab": {
          "base_uri": "https://localhost:8080/"
        },
        "id": "zhFx9o0bsWYE",
        "outputId": "0faec798-fb22-4053-c872-a1736448609f"
      },
      "source": [
        "np.mean(loaded_np)"
      ],
      "execution_count": null,
      "outputs": [
        {
          "output_type": "execute_result",
          "data": {
            "text/plain": [
              "0.37755865"
            ]
          },
          "metadata": {
            "tags": []
          },
          "execution_count": 6
        }
      ]
    },
    {
      "cell_type": "code",
      "metadata": {
        "colab": {
          "base_uri": "https://localhost:8080/"
        },
        "id": "jPbDYx0NsZAu",
        "outputId": "87bdb3bc-ee32-4b05-abc4-27cb9f4bff3d"
      },
      "source": [
        "np.max(loaded_np)"
      ],
      "execution_count": null,
      "outputs": [
        {
          "output_type": "execute_result",
          "data": {
            "text/plain": [
              "1.0063726"
            ]
          },
          "metadata": {
            "tags": []
          },
          "execution_count": 7
        }
      ]
    },
    {
      "cell_type": "code",
      "metadata": {
        "colab": {
          "base_uri": "https://localhost:8080/"
        },
        "id": "yZczaT93sbWv",
        "outputId": "f9d9d389-670c-47ac-c2ca-0b1290234716"
      },
      "source": [
        "np.min(loaded_np)"
      ],
      "execution_count": null,
      "outputs": [
        {
          "output_type": "execute_result",
          "data": {
            "text/plain": [
              "0.044726826"
            ]
          },
          "metadata": {
            "tags": []
          },
          "execution_count": 8
        }
      ]
    }
  ]
}