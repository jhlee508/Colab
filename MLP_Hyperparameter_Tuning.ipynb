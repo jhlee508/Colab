{
  "nbformat": 4,
  "nbformat_minor": 0,
  "metadata": {
    "colab": {
      "name": "MLP_Hyperparameter_Tuning",
      "provenance": [],
      "collapsed_sections": [],
      "toc_visible": true,
      "machine_shape": "hm",
      "include_colab_link": true
    },
    "kernelspec": {
      "name": "python3",
      "display_name": "Python 3"
    },
    "accelerator": "GPU"
  },
  "cells": [
    {
      "cell_type": "markdown",
      "metadata": {
        "id": "view-in-github",
        "colab_type": "text"
      },
      "source": [
        "<a href=\"https://colab.research.google.com/github/jhlee508/Colab/blob/master/MLP_Hyperparameter_Tuning.ipynb\" target=\"_parent\"><img src=\"https://colab.research.google.com/assets/colab-badge.svg\" alt=\"Open In Colab\"/></a>"
      ]
    },
    {
      "cell_type": "markdown",
      "metadata": {
        "id": "U5SThy6DwHq3"
      },
      "source": [
        "### **MLP 모델에 학습 개선 방법 적용해보기**"
      ]
    },
    {
      "cell_type": "code",
      "metadata": {
        "id": "JBpB2KlywRDA"
      },
      "source": [
        "import numpy as np\n",
        "import pandas as pd\n",
        "import tensorflow as tf\n",
        "import matplotlib.pyplot as plt\n",
        "import seaborn as sns\n",
        "\n",
        "from sklearn.model_selection import train_test_split\n",
        "from tensorflow.keras.utils import to_categorical"
      ],
      "execution_count": null,
      "outputs": []
    },
    {
      "cell_type": "code",
      "metadata": {
        "id": "TxMA7utJ01H4"
      },
      "source": [
        "def PlotAccuracy(history):\n",
        "    sns.set_style('whitegrid')\n",
        "    plt.figure(figsize=(12,5))\n",
        "    plt.plot(history.history['accuracy'])\n",
        "    plt.plot(history.history['val_accuracy'])\n",
        "    plt.title('Model Accuracy')\n",
        "    plt.ylabel('Accuracy')\n",
        "    plt.xlabel('Epochs')\n",
        "    plt.legend(['train', 'test'])\n",
        "    plt.show()"
      ],
      "execution_count": null,
      "outputs": []
    },
    {
      "cell_type": "code",
      "metadata": {
        "id": "TSqp1gKZwcGq"
      },
      "source": [
        "(X_train, y_train), (X_test, y_test) = tf.keras.datasets.mnist.load_data()"
      ],
      "execution_count": null,
      "outputs": []
    },
    {
      "cell_type": "code",
      "metadata": {
        "id": "ryh5Gr1VxOm1"
      },
      "source": [
        "# split_train_valid & Normalizing\n",
        "X_train, X_val, y_train, y_val = train_test_split(X_train, y_train, test_size=0.2, stratify = y_train, random_state = 42)"
      ],
      "execution_count": null,
      "outputs": []
    },
    {
      "cell_type": "code",
      "metadata": {
        "id": "fTQCfYwqKCmX"
      },
      "source": [
        "# Flatten\r\n",
        "X_train = X_train.reshape(X_train.shape[0], -1)\r\n",
        "X_val = X_val.reshape(X_val.shape[0], -1)\r\n",
        "X_test = X_test.reshape(X_test.shape[0], -1)"
      ],
      "execution_count": null,
      "outputs": []
    },
    {
      "cell_type": "code",
      "metadata": {
        "id": "98zUIrnrSf7D"
      },
      "source": [
        "X_train = X_train.astype(\"float64\")/255\r\n",
        "X_val = X_val.astype(\"float64\")/255\r\n",
        "X_test = X_test.astype(\"float64\")/255"
      ],
      "execution_count": null,
      "outputs": []
    },
    {
      "cell_type": "code",
      "metadata": {
        "id": "uZKfTR1iOgGl"
      },
      "source": [
        "# one hot encoding\r\n",
        "y_train = to_categorical(y_train, 10)\r\n",
        "y_val = to_categorical(y_val, 10)\r\n",
        "y_test = to_categorical(y_test, 10)"
      ],
      "execution_count": null,
      "outputs": []
    },
    {
      "cell_type": "code",
      "metadata": {
        "colab": {
          "base_uri": "https://localhost:8080/"
        },
        "id": "2lk7hfvjOJf9",
        "outputId": "99aba548-0622-4b37-ae2e-845429818a12"
      },
      "source": [
        "X_train.shape, y_train.shape, X_val.shape, y_val.shape, X_test.shape, y_test.shape"
      ],
      "execution_count": null,
      "outputs": [
        {
          "output_type": "execute_result",
          "data": {
            "text/plain": [
              "((48000, 784),\n",
              " (48000, 10),\n",
              " (12000, 784),\n",
              " (12000, 10),\n",
              " (10000, 784),\n",
              " (10000, 10))"
            ]
          },
          "metadata": {
            "tags": []
          },
          "execution_count": 156
        }
      ]
    },
    {
      "cell_type": "markdown",
      "metadata": {
        "id": "nicT14PjYQEV"
      },
      "source": [
        "# 1st Model\r\n",
        "- 간단한 MLP 모델 생성"
      ]
    },
    {
      "cell_type": "code",
      "metadata": {
        "id": "xbvP7RPCP0YJ"
      },
      "source": [
        "# 모델 list\r\n",
        "model_lst = pd.DataFrame(columns = ['model', 'acc', 'loss'])"
      ],
      "execution_count": null,
      "outputs": []
    },
    {
      "cell_type": "code",
      "metadata": {
        "id": "N7Adzm3pwC1C"
      },
      "source": [
        "model = tf.keras.models.Sequential()\n",
        "\n",
        "model.add(tf.keras.layers.Dense(256, input_shape = (784,)))\n",
        "model.add(tf.keras.layers.Activation('sigmoid'))\n",
        "model.add(tf.keras.layers.Dense(128))\n",
        "model.add(tf.keras.layers.Activation('sigmoid'))\n",
        "model.add(tf.keras.layers.Dense(64))\n",
        "model.add(tf.keras.layers.Activation('sigmoid'))\n",
        "model.add(tf.keras.layers.Dense(10))\n",
        "model.add(tf.keras.layers.Activation('softmax'))\n",
        "\n",
        "model.compile(optimizer = tf.keras.optimizers.SGD(),\n",
        "              loss = 'categorical_crossentropy',\n",
        "              metrics = ['accuracy'])"
      ],
      "execution_count": null,
      "outputs": []
    },
    {
      "cell_type": "code",
      "metadata": {
        "colab": {
          "base_uri": "https://localhost:8080/"
        },
        "id": "aKsKoxo8zUDq",
        "outputId": "b4a5803e-a310-4b0d-f6aa-86be70ee347d"
      },
      "source": [
        "history = model.fit(X_train, y_train, \n",
        "                    batch_size = 128, epochs = 20, \n",
        "                    validation_data = (X_val, y_val))"
      ],
      "execution_count": null,
      "outputs": [
        {
          "output_type": "stream",
          "text": [
            "Epoch 1/20\n",
            "375/375 [==============================] - 1s 2ms/step - loss: 2.3524 - accuracy: 0.0966 - val_loss: 2.2973 - val_accuracy: 0.1123\n",
            "Epoch 2/20\n",
            "375/375 [==============================] - 1s 2ms/step - loss: 2.2963 - accuracy: 0.1197 - val_loss: 2.2939 - val_accuracy: 0.1250\n",
            "Epoch 3/20\n",
            "375/375 [==============================] - 1s 2ms/step - loss: 2.2933 - accuracy: 0.1163 - val_loss: 2.2899 - val_accuracy: 0.1123\n",
            "Epoch 4/20\n",
            "375/375 [==============================] - 1s 2ms/step - loss: 2.2891 - accuracy: 0.1170 - val_loss: 2.2856 - val_accuracy: 0.1123\n",
            "Epoch 5/20\n",
            "375/375 [==============================] - 1s 2ms/step - loss: 2.2846 - accuracy: 0.1215 - val_loss: 2.2807 - val_accuracy: 0.1268\n",
            "Epoch 6/20\n",
            "375/375 [==============================] - 1s 2ms/step - loss: 2.2802 - accuracy: 0.1570 - val_loss: 2.2753 - val_accuracy: 0.1520\n",
            "Epoch 7/20\n",
            "375/375 [==============================] - 1s 2ms/step - loss: 2.2736 - accuracy: 0.1529 - val_loss: 2.2690 - val_accuracy: 0.1924\n",
            "Epoch 8/20\n",
            "375/375 [==============================] - 1s 2ms/step - loss: 2.2676 - accuracy: 0.2361 - val_loss: 2.2616 - val_accuracy: 0.2149\n",
            "Epoch 9/20\n",
            "375/375 [==============================] - 1s 2ms/step - loss: 2.2594 - accuracy: 0.2480 - val_loss: 2.2522 - val_accuracy: 0.3210\n",
            "Epoch 10/20\n",
            "375/375 [==============================] - 1s 2ms/step - loss: 2.2496 - accuracy: 0.2973 - val_loss: 2.2408 - val_accuracy: 0.2788\n",
            "Epoch 11/20\n",
            "375/375 [==============================] - 1s 2ms/step - loss: 2.2371 - accuracy: 0.3082 - val_loss: 2.2263 - val_accuracy: 0.2206\n",
            "Epoch 12/20\n",
            "375/375 [==============================] - 1s 2ms/step - loss: 2.2216 - accuracy: 0.3024 - val_loss: 2.2068 - val_accuracy: 0.3013\n",
            "Epoch 13/20\n",
            "375/375 [==============================] - 1s 2ms/step - loss: 2.2008 - accuracy: 0.3536 - val_loss: 2.1810 - val_accuracy: 0.3703\n",
            "Epoch 14/20\n",
            "375/375 [==============================] - 1s 2ms/step - loss: 2.1734 - accuracy: 0.3868 - val_loss: 2.1462 - val_accuracy: 0.4157\n",
            "Epoch 15/20\n",
            "375/375 [==============================] - 1s 2ms/step - loss: 2.1346 - accuracy: 0.4070 - val_loss: 2.0980 - val_accuracy: 0.4635\n",
            "Epoch 16/20\n",
            "375/375 [==============================] - 1s 2ms/step - loss: 2.0821 - accuracy: 0.4409 - val_loss: 2.0332 - val_accuracy: 0.4316\n",
            "Epoch 17/20\n",
            "375/375 [==============================] - 1s 2ms/step - loss: 2.0152 - accuracy: 0.4469 - val_loss: 1.9500 - val_accuracy: 0.4184\n",
            "Epoch 18/20\n",
            "375/375 [==============================] - 1s 2ms/step - loss: 1.9263 - accuracy: 0.4520 - val_loss: 1.8505 - val_accuracy: 0.5088\n",
            "Epoch 19/20\n",
            "375/375 [==============================] - 1s 2ms/step - loss: 1.8261 - accuracy: 0.4971 - val_loss: 1.7433 - val_accuracy: 0.4663\n",
            "Epoch 20/20\n",
            "375/375 [==============================] - 1s 2ms/step - loss: 1.7137 - accuracy: 0.4903 - val_loss: 1.6380 - val_accuracy: 0.5276\n"
          ],
          "name": "stdout"
        }
      ]
    },
    {
      "cell_type": "code",
      "metadata": {
        "colab": {
          "base_uri": "https://localhost:8080/",
          "height": 350
        },
        "id": "ze5_m-Tg1N0p",
        "outputId": "56101042-d06d-46b7-b682-198763a40d45"
      },
      "source": [
        "PlotAccuracy(history)"
      ],
      "execution_count": null,
      "outputs": [
        {
          "output_type": "display_data",
          "data": {
            "image/png": "[encoded data removed]",
            "text/plain": [
              "<Figure size 864x360 with 1 Axes>"
            ]
          },
          "metadata": {
            "tags": []
          }
        }
      ]
    },
    {
      "cell_type": "code",
      "metadata": {
        "colab": {
          "base_uri": "https://localhost:8080/",
          "height": 94
        },
        "id": "-j3hYzsk2h7Q",
        "outputId": "b265ecec-1586-404c-e81c-7c617ee69327"
      },
      "source": [
        "model_lst = model_lst.append({'model':'base', 'acc':model.evaluate(X_test, y_test)[1],'loss':model.evaluate(X_test, y_test, verbose=0)[0]}, ignore_index=True)\n",
        "model_lst"
      ],
      "execution_count": null,
      "outputs": [
        {
          "output_type": "stream",
          "text": [
            "313/313 [==============================] - 0s 1ms/step - loss: 1.6278 - accuracy: 0.5260\n"
          ],
          "name": "stdout"
        },
        {
          "output_type": "execute_result",
          "data": {
            "text/html": [
              "<div>\n",
              "<style scoped>\n",
              "    .dataframe tbody tr th:only-of-type {\n",
              "        vertical-align: middle;\n",
              "    }\n",
              "\n",
              "    .dataframe tbody tr th {\n",
              "        vertical-align: top;\n",
              "    }\n",
              "\n",
              "    .dataframe thead th {\n",
              "        text-align: right;\n",
              "    }\n",
              "</style>\n",
              "<table border=\"1\" class=\"dataframe\">\n",
              "  <thead>\n",
              "    <tr style=\"text-align: right;\">\n",
              "      <th></th>\n",
              "      <th>model</th>\n",
              "      <th>acc</th>\n",
              "      <th>loss</th>\n",
              "    </tr>\n",
              "  </thead>\n",
              "  <tbody>\n",
              "    <tr>\n",
              "      <th>0</th>\n",
              "      <td>base</td>\n",
              "      <td>0.526</td>\n",
              "      <td>1.627769</td>\n",
              "    </tr>\n",
              "  </tbody>\n",
              "</table>\n",
              "</div>"
            ],
            "text/plain": [
              "  model    acc      loss\n",
              "0  base  0.526  1.627769"
            ]
          },
          "metadata": {
            "tags": []
          },
          "execution_count": 161
        }
      ]
    },
    {
      "cell_type": "markdown",
      "metadata": {
        "id": "3Zrjl6d-YU7s"
      },
      "source": [
        "# 2nd Model\r\n",
        "- He 초기화 적용"
      ]
    },
    {
      "cell_type": "code",
      "metadata": {
        "id": "06TnE1zE1gAu"
      },
      "source": [
        "model_he = tf.keras.models.Sequential()\n",
        "\n",
        "model_he.add(tf.keras.layers.Dense(256, input_shape = (784,)))\n",
        "model_he.add(tf.keras.layers.Activation('sigmoid'))\n",
        "model_he.add(tf.keras.layers.Dense(128, kernel_initializer='he_normal'))\n",
        "model_he.add(tf.keras.layers.Activation('sigmoid'))\n",
        "model_he.add(tf.keras.layers.Dense(64, kernel_initializer='he_normal'))\n",
        "model_he.add(tf.keras.layers.Activation('sigmoid'))\n",
        "model_he.add(tf.keras.layers.Dense(10, kernel_initializer='he_normal'))\n",
        "model_he.add(tf.keras.layers.Activation('softmax'))\n",
        "\n",
        "model_he.compile(optimizer = tf.keras.optimizers.SGD(),\n",
        "              loss = 'categorical_crossentropy',\n",
        "              metrics = ['accuracy'])"
      ],
      "execution_count": null,
      "outputs": []
    },
    {
      "cell_type": "code",
      "metadata": {
        "colab": {
          "base_uri": "https://localhost:8080/"
        },
        "id": "u20Yh3HRQ-h3",
        "outputId": "049fce42-a6fe-400d-f5e1-3c2470830aa3"
      },
      "source": [
        "history = model_he.fit(X_train, y_train, \r\n",
        "                    batch_size = 128, epochs = 20, \r\n",
        "                    validation_data = (X_val, y_val))"
      ],
      "execution_count": null,
      "outputs": [
        {
          "output_type": "stream",
          "text": [
            "Epoch 1/20\n",
            "375/375 [==============================] - 1s 2ms/step - loss: 2.3591 - accuracy: 0.1082 - val_loss: 2.2947 - val_accuracy: 0.1123\n",
            "Epoch 2/20\n",
            "375/375 [==============================] - 1s 2ms/step - loss: 2.2932 - accuracy: 0.1171 - val_loss: 2.2881 - val_accuracy: 0.1124\n",
            "Epoch 3/20\n",
            "375/375 [==============================] - 1s 2ms/step - loss: 2.2863 - accuracy: 0.1262 - val_loss: 2.2814 - val_accuracy: 0.1761\n",
            "Epoch 4/20\n",
            "375/375 [==============================] - 1s 2ms/step - loss: 2.2796 - accuracy: 0.1570 - val_loss: 2.2732 - val_accuracy: 0.1127\n",
            "Epoch 5/20\n",
            "375/375 [==============================] - 1s 2ms/step - loss: 2.2715 - accuracy: 0.1634 - val_loss: 2.2641 - val_accuracy: 0.1187\n",
            "Epoch 6/20\n",
            "375/375 [==============================] - 1s 2ms/step - loss: 2.2617 - accuracy: 0.2077 - val_loss: 2.2527 - val_accuracy: 0.1534\n",
            "Epoch 7/20\n",
            "375/375 [==============================] - 1s 2ms/step - loss: 2.2500 - accuracy: 0.2324 - val_loss: 2.2390 - val_accuracy: 0.2523\n",
            "Epoch 8/20\n",
            "375/375 [==============================] - 1s 2ms/step - loss: 2.2346 - accuracy: 0.2701 - val_loss: 2.2211 - val_accuracy: 0.3553\n",
            "Epoch 9/20\n",
            "375/375 [==============================] - 1s 2ms/step - loss: 2.2160 - accuracy: 0.3592 - val_loss: 2.1984 - val_accuracy: 0.3257\n",
            "Epoch 10/20\n",
            "375/375 [==============================] - 1s 2ms/step - loss: 2.1918 - accuracy: 0.3726 - val_loss: 2.1675 - val_accuracy: 0.4670\n",
            "Epoch 11/20\n",
            "375/375 [==============================] - 1s 2ms/step - loss: 2.1580 - accuracy: 0.4616 - val_loss: 2.1259 - val_accuracy: 0.4761\n",
            "Epoch 12/20\n",
            "375/375 [==============================] - 1s 2ms/step - loss: 2.1130 - accuracy: 0.4803 - val_loss: 2.0693 - val_accuracy: 0.4955\n",
            "Epoch 13/20\n",
            "375/375 [==============================] - 1s 2ms/step - loss: 2.0529 - accuracy: 0.5124 - val_loss: 1.9939 - val_accuracy: 0.5280\n",
            "Epoch 14/20\n",
            "375/375 [==============================] - 1s 2ms/step - loss: 1.9739 - accuracy: 0.5317 - val_loss: 1.8993 - val_accuracy: 0.5397\n",
            "Epoch 15/20\n",
            "375/375 [==============================] - 1s 2ms/step - loss: 1.8740 - accuracy: 0.5413 - val_loss: 1.7914 - val_accuracy: 0.5698\n",
            "Epoch 16/20\n",
            "375/375 [==============================] - 1s 2ms/step - loss: 1.7632 - accuracy: 0.5657 - val_loss: 1.6793 - val_accuracy: 0.5709\n",
            "Epoch 17/20\n",
            "375/375 [==============================] - 1s 2ms/step - loss: 1.6499 - accuracy: 0.5812 - val_loss: 1.5719 - val_accuracy: 0.5869\n",
            "Epoch 18/20\n",
            "375/375 [==============================] - 1s 2ms/step - loss: 1.5441 - accuracy: 0.5941 - val_loss: 1.4718 - val_accuracy: 0.6142\n",
            "Epoch 19/20\n",
            "375/375 [==============================] - 1s 2ms/step - loss: 1.4480 - accuracy: 0.6170 - val_loss: 1.3793 - val_accuracy: 0.6196\n",
            "Epoch 20/20\n",
            "375/375 [==============================] - 1s 2ms/step - loss: 1.3592 - accuracy: 0.6317 - val_loss: 1.2925 - val_accuracy: 0.6428\n"
          ],
          "name": "stdout"
        }
      ]
    },
    {
      "cell_type": "code",
      "metadata": {
        "colab": {
          "base_uri": "https://localhost:8080/",
          "height": 350
        },
        "id": "eBozuOnvQ0Qj",
        "outputId": "a5970912-9f9b-4efd-abc9-42930243d021"
      },
      "source": [
        "PlotAccuracy(history)"
      ],
      "execution_count": null,
      "outputs": [
        {
          "output_type": "display_data",
          "data": {
            "image/png": "[encoded data removed]",
            "text/plain": [
              "<Figure size 864x360 with 1 Axes>"
            ]
          },
          "metadata": {
            "tags": []
          }
        }
      ]
    },
    {
      "cell_type": "code",
      "metadata": {
        "colab": {
          "base_uri": "https://localhost:8080/",
          "height": 124
        },
        "id": "fKRznzc42cUH",
        "outputId": "e943b943-f8dd-4e32-e124-3812b5a78127"
      },
      "source": [
        "model_lst = model_lst.append({'model':'he_init', 'acc':model_he.evaluate(X_test, y_test)[1],'loss':model_he.evaluate(X_test, y_test, verbose=0)[0]}, ignore_index=True)\n",
        "model_lst"
      ],
      "execution_count": null,
      "outputs": [
        {
          "output_type": "stream",
          "text": [
            "313/313 [==============================] - 0s 1ms/step - loss: 1.2802 - accuracy: 0.6551\n"
          ],
          "name": "stdout"
        },
        {
          "output_type": "execute_result",
          "data": {
            "text/html": [
              "<div>\n",
              "<style scoped>\n",
              "    .dataframe tbody tr th:only-of-type {\n",
              "        vertical-align: middle;\n",
              "    }\n",
              "\n",
              "    .dataframe tbody tr th {\n",
              "        vertical-align: top;\n",
              "    }\n",
              "\n",
              "    .dataframe thead th {\n",
              "        text-align: right;\n",
              "    }\n",
              "</style>\n",
              "<table border=\"1\" class=\"dataframe\">\n",
              "  <thead>\n",
              "    <tr style=\"text-align: right;\">\n",
              "      <th></th>\n",
              "      <th>model</th>\n",
              "      <th>acc</th>\n",
              "      <th>loss</th>\n",
              "    </tr>\n",
              "  </thead>\n",
              "  <tbody>\n",
              "    <tr>\n",
              "      <th>0</th>\n",
              "      <td>base</td>\n",
              "      <td>0.5260</td>\n",
              "      <td>1.627769</td>\n",
              "    </tr>\n",
              "    <tr>\n",
              "      <th>1</th>\n",
              "      <td>he_init</td>\n",
              "      <td>0.6551</td>\n",
              "      <td>1.280162</td>\n",
              "    </tr>\n",
              "  </tbody>\n",
              "</table>\n",
              "</div>"
            ],
            "text/plain": [
              "     model     acc      loss\n",
              "0     base  0.5260  1.627769\n",
              "1  he_init  0.6551  1.280162"
            ]
          },
          "metadata": {
            "tags": []
          },
          "execution_count": 165
        }
      ]
    },
    {
      "cell_type": "markdown",
      "metadata": {
        "id": "jwhhgW58YY4P"
      },
      "source": [
        "# 3rd Model\r\n",
        "- Activation Function 수정"
      ]
    },
    {
      "cell_type": "code",
      "metadata": {
        "id": "kae9bPEg2ug7"
      },
      "source": [
        "model_ac = tf.keras.models.Sequential()\n",
        "\n",
        "model_ac.add(tf.keras.layers.Dense(256, input_shape = (784,)))\n",
        "model_ac.add(tf.keras.layers.LeakyReLU(alpha=0.1))\n",
        "model_ac.add(tf.keras.layers.Dense(128))\n",
        "model_ac.add(tf.keras.layers.LeakyReLU(alpha=0.1))\n",
        "model_ac.add(tf.keras.layers.Dense(64))\n",
        "model_ac.add(tf.keras.layers.LeakyReLU(alpha=0.1))\n",
        "model_ac.add(tf.keras.layers.Dense(10))\n",
        "model_ac.add(tf.keras.layers.Activation('softmax'))\n",
        "\n",
        "model_ac.compile(optimizer = tf.keras.optimizers.SGD(),\n",
        "                loss = 'categorical_crossentropy',\n",
        "                metrics = ['accuracy'])"
      ],
      "execution_count": null,
      "outputs": []
    },
    {
      "cell_type": "code",
      "metadata": {
        "colab": {
          "base_uri": "https://localhost:8080/"
        },
        "id": "Yr4k9RUWRAVJ",
        "outputId": "c96021d0-aa10-4d50-9213-c7be63b75fc9"
      },
      "source": [
        "history = model_ac.fit(X_train, y_train, \r\n",
        "                       batch_size = 128, epochs = 20, \r\n",
        "                       validation_data = (X_val, y_val))"
      ],
      "execution_count": null,
      "outputs": [
        {
          "output_type": "stream",
          "text": [
            "Epoch 1/20\n",
            "375/375 [==============================] - 1s 2ms/step - loss: 1.9171 - accuracy: 0.4098 - val_loss: 0.7156 - val_accuracy: 0.8112\n",
            "Epoch 2/20\n",
            "375/375 [==============================] - 1s 2ms/step - loss: 0.6049 - accuracy: 0.8389 - val_loss: 0.4309 - val_accuracy: 0.8844\n",
            "Epoch 3/20\n",
            "375/375 [==============================] - 1s 2ms/step - loss: 0.3984 - accuracy: 0.8903 - val_loss: 0.3517 - val_accuracy: 0.9015\n",
            "Epoch 4/20\n",
            "375/375 [==============================] - 1s 2ms/step - loss: 0.3358 - accuracy: 0.9031 - val_loss: 0.3160 - val_accuracy: 0.9096\n",
            "Epoch 5/20\n",
            "375/375 [==============================] - 1s 2ms/step - loss: 0.3079 - accuracy: 0.9122 - val_loss: 0.2895 - val_accuracy: 0.9183\n",
            "Epoch 6/20\n",
            "375/375 [==============================] - 1s 2ms/step - loss: 0.2786 - accuracy: 0.9174 - val_loss: 0.2716 - val_accuracy: 0.9222\n",
            "Epoch 7/20\n",
            "375/375 [==============================] - 1s 2ms/step - loss: 0.2571 - accuracy: 0.9264 - val_loss: 0.2575 - val_accuracy: 0.9263\n",
            "Epoch 8/20\n",
            "375/375 [==============================] - 1s 2ms/step - loss: 0.2453 - accuracy: 0.9288 - val_loss: 0.2463 - val_accuracy: 0.9290\n",
            "Epoch 9/20\n",
            "375/375 [==============================] - 1s 2ms/step - loss: 0.2368 - accuracy: 0.9329 - val_loss: 0.2370 - val_accuracy: 0.9302\n",
            "Epoch 10/20\n",
            "375/375 [==============================] - 1s 2ms/step - loss: 0.2242 - accuracy: 0.9350 - val_loss: 0.2269 - val_accuracy: 0.9345\n",
            "Epoch 11/20\n",
            "375/375 [==============================] - 1s 2ms/step - loss: 0.2118 - accuracy: 0.9404 - val_loss: 0.2175 - val_accuracy: 0.9382\n",
            "Epoch 12/20\n",
            "375/375 [==============================] - 1s 2ms/step - loss: 0.2094 - accuracy: 0.9405 - val_loss: 0.2091 - val_accuracy: 0.9411\n",
            "Epoch 13/20\n",
            "375/375 [==============================] - 1s 2ms/step - loss: 0.1917 - accuracy: 0.9451 - val_loss: 0.2030 - val_accuracy: 0.9427\n",
            "Epoch 14/20\n",
            "375/375 [==============================] - 1s 2ms/step - loss: 0.1813 - accuracy: 0.9486 - val_loss: 0.1986 - val_accuracy: 0.9441\n",
            "Epoch 15/20\n",
            "375/375 [==============================] - 1s 2ms/step - loss: 0.1807 - accuracy: 0.9465 - val_loss: 0.1930 - val_accuracy: 0.9462\n",
            "Epoch 16/20\n",
            "375/375 [==============================] - 1s 2ms/step - loss: 0.1719 - accuracy: 0.9506 - val_loss: 0.1897 - val_accuracy: 0.9477\n",
            "Epoch 17/20\n",
            "375/375 [==============================] - 1s 2ms/step - loss: 0.1610 - accuracy: 0.9534 - val_loss: 0.1804 - val_accuracy: 0.9488\n",
            "Epoch 18/20\n",
            "375/375 [==============================] - 1s 2ms/step - loss: 0.1613 - accuracy: 0.9539 - val_loss: 0.1759 - val_accuracy: 0.9503\n",
            "Epoch 19/20\n",
            "375/375 [==============================] - 1s 2ms/step - loss: 0.1509 - accuracy: 0.9571 - val_loss: 0.1741 - val_accuracy: 0.9518\n",
            "Epoch 20/20\n",
            "375/375 [==============================] - 1s 2ms/step - loss: 0.1514 - accuracy: 0.9574 - val_loss: 0.1687 - val_accuracy: 0.9527\n"
          ],
          "name": "stdout"
        }
      ]
    },
    {
      "cell_type": "code",
      "metadata": {
        "colab": {
          "base_uri": "https://localhost:8080/",
          "height": 350
        },
        "id": "_PB1hE5sTUz-",
        "outputId": "cdfc24cd-2334-4431-9d16-145b7bbca902"
      },
      "source": [
        "PlotAccuracy(history)"
      ],
      "execution_count": null,
      "outputs": [
        {
          "output_type": "display_data",
          "data": {
            "image/png": "[encoded data removed]",
            "text/plain": [
              "<Figure size 864x360 with 1 Axes>"
            ]
          },
          "metadata": {
            "tags": []
          }
        }
      ]
    },
    {
      "cell_type": "code",
      "metadata": {
        "colab": {
          "base_uri": "https://localhost:8080/",
          "height": 153
        },
        "id": "f1ih8JhX4Nhf",
        "outputId": "61d1aa76-d914-4be7-fbb7-17a26c18a726"
      },
      "source": [
        "model_lst = model_lst.append({'model':'leaky_relu', 'acc':model_ac.evaluate(X_test, y_test)[1],'loss':model_ac.evaluate(X_test, y_test, verbose=0)[0]}, ignore_index=True)\n",
        "model_lst"
      ],
      "execution_count": null,
      "outputs": [
        {
          "output_type": "stream",
          "text": [
            "313/313 [==============================] - 0s 1ms/step - loss: 0.1560 - accuracy: 0.9525\n"
          ],
          "name": "stdout"
        },
        {
          "output_type": "execute_result",
          "data": {
            "text/html": [
              "<div>\n",
              "<style scoped>\n",
              "    .dataframe tbody tr th:only-of-type {\n",
              "        vertical-align: middle;\n",
              "    }\n",
              "\n",
              "    .dataframe tbody tr th {\n",
              "        vertical-align: top;\n",
              "    }\n",
              "\n",
              "    .dataframe thead th {\n",
              "        text-align: right;\n",
              "    }\n",
              "</style>\n",
              "<table border=\"1\" class=\"dataframe\">\n",
              "  <thead>\n",
              "    <tr style=\"text-align: right;\">\n",
              "      <th></th>\n",
              "      <th>model</th>\n",
              "      <th>acc</th>\n",
              "      <th>loss</th>\n",
              "    </tr>\n",
              "  </thead>\n",
              "  <tbody>\n",
              "    <tr>\n",
              "      <th>0</th>\n",
              "      <td>base</td>\n",
              "      <td>0.5260</td>\n",
              "      <td>1.627769</td>\n",
              "    </tr>\n",
              "    <tr>\n",
              "      <th>1</th>\n",
              "      <td>he_init</td>\n",
              "      <td>0.6551</td>\n",
              "      <td>1.280162</td>\n",
              "    </tr>\n",
              "    <tr>\n",
              "      <th>2</th>\n",
              "      <td>leaky_relu</td>\n",
              "      <td>0.9525</td>\n",
              "      <td>0.156011</td>\n",
              "    </tr>\n",
              "  </tbody>\n",
              "</table>\n",
              "</div>"
            ],
            "text/plain": [
              "        model     acc      loss\n",
              "0        base  0.5260  1.627769\n",
              "1     he_init  0.6551  1.280162\n",
              "2  leaky_relu  0.9525  0.156011"
            ]
          },
          "metadata": {
            "tags": []
          },
          "execution_count": 169
        }
      ]
    },
    {
      "cell_type": "markdown",
      "metadata": {
        "id": "VE2ArR-sYbSL"
      },
      "source": [
        "# 4th Model\r\n",
        "- Optimizer 수정"
      ]
    },
    {
      "cell_type": "code",
      "metadata": {
        "colab": {
          "base_uri": "https://localhost:8080/"
        },
        "id": "_hFtl3Kc4YfG",
        "outputId": "3ca14452-f011-4958-e395-9608f6b409a6"
      },
      "source": [
        "model_op = tf.keras.models.Sequential()\n",
        "\n",
        "model_op.add(tf.keras.layers.Dense(256, input_shape = (784,)))\n",
        "model_op.add(tf.keras.layers.Activation('relu'))\n",
        "model_op.add(tf.keras.layers.Dense(128))\n",
        "model_op.add(tf.keras.layers.Activation('relu'))\n",
        "model_op.add(tf.keras.layers.Dense(64))\n",
        "model_op.add(tf.keras.layers.Activation('relu'))\n",
        "model_op.add(tf.keras.layers.Dense(10))\n",
        "model_op.add(tf.keras.layers.Activation('softmax'))\n",
        "\n",
        "model_op.compile(optimizer = tf.keras.optimizers.Adam(),\n",
        "              loss = 'categorical_crossentropy',\n",
        "              metrics = ['accuracy'])\n",
        "\n",
        "history = model_op.fit(X_train, y_train, \n",
        "                    batch_size = 128, epochs = 20, \n",
        "                    validation_data = (X_val, y_val))"
      ],
      "execution_count": null,
      "outputs": [
        {
          "output_type": "stream",
          "text": [
            "Epoch 1/20\n",
            "375/375 [==============================] - 1s 2ms/step - loss: 0.5875 - accuracy: 0.8411 - val_loss: 0.1438 - val_accuracy: 0.9588\n",
            "Epoch 2/20\n",
            "375/375 [==============================] - 1s 2ms/step - loss: 0.1191 - accuracy: 0.9643 - val_loss: 0.1207 - val_accuracy: 0.9632\n",
            "Epoch 3/20\n",
            "375/375 [==============================] - 1s 2ms/step - loss: 0.0744 - accuracy: 0.9775 - val_loss: 0.0997 - val_accuracy: 0.9705\n",
            "Epoch 4/20\n",
            "375/375 [==============================] - 1s 2ms/step - loss: 0.0544 - accuracy: 0.9828 - val_loss: 0.0856 - val_accuracy: 0.9758\n",
            "Epoch 5/20\n",
            "375/375 [==============================] - 1s 2ms/step - loss: 0.0377 - accuracy: 0.9883 - val_loss: 0.0861 - val_accuracy: 0.9757\n",
            "Epoch 6/20\n",
            "375/375 [==============================] - 1s 2ms/step - loss: 0.0301 - accuracy: 0.9905 - val_loss: 0.0872 - val_accuracy: 0.9754\n",
            "Epoch 7/20\n",
            "375/375 [==============================] - 1s 2ms/step - loss: 0.0203 - accuracy: 0.9940 - val_loss: 0.0952 - val_accuracy: 0.9735\n",
            "Epoch 8/20\n",
            "375/375 [==============================] - 1s 2ms/step - loss: 0.0197 - accuracy: 0.9940 - val_loss: 0.1107 - val_accuracy: 0.9714\n",
            "Epoch 9/20\n",
            "375/375 [==============================] - 1s 2ms/step - loss: 0.0161 - accuracy: 0.9943 - val_loss: 0.1060 - val_accuracy: 0.9754\n",
            "Epoch 10/20\n",
            "375/375 [==============================] - 1s 2ms/step - loss: 0.0126 - accuracy: 0.9957 - val_loss: 0.1270 - val_accuracy: 0.9714\n",
            "Epoch 11/20\n",
            "375/375 [==============================] - 1s 2ms/step - loss: 0.0147 - accuracy: 0.9955 - val_loss: 0.1071 - val_accuracy: 0.9750\n",
            "Epoch 12/20\n",
            "375/375 [==============================] - 1s 2ms/step - loss: 0.0126 - accuracy: 0.9963 - val_loss: 0.1013 - val_accuracy: 0.9781\n",
            "Epoch 13/20\n",
            "375/375 [==============================] - 1s 2ms/step - loss: 0.0104 - accuracy: 0.9968 - val_loss: 0.1289 - val_accuracy: 0.9745\n",
            "Epoch 14/20\n",
            "375/375 [==============================] - 1s 2ms/step - loss: 0.0141 - accuracy: 0.9955 - val_loss: 0.1083 - val_accuracy: 0.9774\n",
            "Epoch 15/20\n",
            "375/375 [==============================] - 1s 2ms/step - loss: 0.0087 - accuracy: 0.9965 - val_loss: 0.1032 - val_accuracy: 0.9779\n",
            "Epoch 16/20\n",
            "375/375 [==============================] - 1s 2ms/step - loss: 0.0063 - accuracy: 0.9980 - val_loss: 0.1245 - val_accuracy: 0.9763\n",
            "Epoch 17/20\n",
            "375/375 [==============================] - 1s 2ms/step - loss: 0.0118 - accuracy: 0.9959 - val_loss: 0.1099 - val_accuracy: 0.9783\n",
            "Epoch 18/20\n",
            "375/375 [==============================] - 1s 2ms/step - loss: 0.0066 - accuracy: 0.9978 - val_loss: 0.1292 - val_accuracy: 0.9771\n",
            "Epoch 19/20\n",
            "375/375 [==============================] - 1s 2ms/step - loss: 0.0125 - accuracy: 0.9960 - val_loss: 0.1170 - val_accuracy: 0.9779\n",
            "Epoch 20/20\n",
            "375/375 [==============================] - 1s 2ms/step - loss: 0.0034 - accuracy: 0.9990 - val_loss: 0.1246 - val_accuracy: 0.9785\n"
          ],
          "name": "stdout"
        }
      ]
    },
    {
      "cell_type": "code",
      "metadata": {
        "colab": {
          "base_uri": "https://localhost:8080/",
          "height": 350
        },
        "id": "Gc97aTKjTfCp",
        "outputId": "8f134c60-3ff0-422d-97b2-369dddbda284"
      },
      "source": [
        "PlotAccuracy(history)"
      ],
      "execution_count": null,
      "outputs": [
        {
          "output_type": "display_data",
          "data": {
            "image/png": "[encoded data removed]",
            "text/plain": [
              "<Figure size 864x360 with 1 Axes>"
            ]
          },
          "metadata": {
            "tags": []
          }
        }
      ]
    },
    {
      "cell_type": "code",
      "metadata": {
        "colab": {
          "base_uri": "https://localhost:8080/",
          "height": 182
        },
        "id": "BfTo8EVh4pJV",
        "outputId": "d4633ae4-6b62-4136-a1d8-73555d1b4fe4"
      },
      "source": [
        "model_lst = model_lst.append({'model':'relu+Adam', 'acc':model_op.evaluate(X_test, y_test)[1],'loss':model_op.evaluate(X_test, y_test, verbose=0)[0]}, ignore_index=True)\n",
        "model_lst"
      ],
      "execution_count": null,
      "outputs": [
        {
          "output_type": "stream",
          "text": [
            "313/313 [==============================] - 0s 1ms/step - loss: 0.1056 - accuracy: 0.9802\n"
          ],
          "name": "stdout"
        },
        {
          "output_type": "execute_result",
          "data": {
            "text/html": [
              "<div>\n",
              "<style scoped>\n",
              "    .dataframe tbody tr th:only-of-type {\n",
              "        vertical-align: middle;\n",
              "    }\n",
              "\n",
              "    .dataframe tbody tr th {\n",
              "        vertical-align: top;\n",
              "    }\n",
              "\n",
              "    .dataframe thead th {\n",
              "        text-align: right;\n",
              "    }\n",
              "</style>\n",
              "<table border=\"1\" class=\"dataframe\">\n",
              "  <thead>\n",
              "    <tr style=\"text-align: right;\">\n",
              "      <th></th>\n",
              "      <th>model</th>\n",
              "      <th>acc</th>\n",
              "      <th>loss</th>\n",
              "    </tr>\n",
              "  </thead>\n",
              "  <tbody>\n",
              "    <tr>\n",
              "      <th>0</th>\n",
              "      <td>base</td>\n",
              "      <td>0.5260</td>\n",
              "      <td>1.627769</td>\n",
              "    </tr>\n",
              "    <tr>\n",
              "      <th>1</th>\n",
              "      <td>he_init</td>\n",
              "      <td>0.6551</td>\n",
              "      <td>1.280162</td>\n",
              "    </tr>\n",
              "    <tr>\n",
              "      <th>2</th>\n",
              "      <td>leaky_relu</td>\n",
              "      <td>0.9525</td>\n",
              "      <td>0.156011</td>\n",
              "    </tr>\n",
              "    <tr>\n",
              "      <th>3</th>\n",
              "      <td>relu+Adam</td>\n",
              "      <td>0.9802</td>\n",
              "      <td>0.105635</td>\n",
              "    </tr>\n",
              "  </tbody>\n",
              "</table>\n",
              "</div>"
            ],
            "text/plain": [
              "        model     acc      loss\n",
              "0        base  0.5260  1.627769\n",
              "1     he_init  0.6551  1.280162\n",
              "2  leaky_relu  0.9525  0.156011\n",
              "3   relu+Adam  0.9802  0.105635"
            ]
          },
          "metadata": {
            "tags": []
          },
          "execution_count": 172
        }
      ]
    },
    {
      "cell_type": "markdown",
      "metadata": {
        "id": "HUcfJMoOYeOc"
      },
      "source": [
        "# 5th Model\r\n",
        "- Batch Normalization 추가"
      ]
    },
    {
      "cell_type": "code",
      "metadata": {
        "colab": {
          "base_uri": "https://localhost:8080/"
        },
        "id": "dA5fwtns41CH",
        "outputId": "baca7660-1f49-4c3d-f495-4b314e3d4059"
      },
      "source": [
        "model_bn = tf.keras.models.Sequential()\n",
        "\n",
        "model_bn.add(tf.keras.layers.Dense(256, input_shape = (784,)))\n",
        "model_bn.add(tf.keras.layers.BatchNormalization())\n",
        "model_bn.add(tf.keras.layers.Activation('relu'))\n",
        "model_bn.add(tf.keras.layers.Dense(128))\n",
        "model_bn.add(tf.keras.layers.BatchNormalization())\n",
        "model_bn.add(tf.keras.layers.Activation('relu'))\n",
        "model_bn.add(tf.keras.layers.Dense(64))\n",
        "model_bn.add(tf.keras.layers.BatchNormalization())\n",
        "model_bn.add(tf.keras.layers.Activation('relu'))\n",
        "model_bn.add(tf.keras.layers.Dense(10))\n",
        "model_bn.add(tf.keras.layers.Activation('softmax'))\n",
        "\n",
        "model_bn.compile(optimizer = tf.keras.optimizers.Adam(),\n",
        "              loss = 'categorical_crossentropy',\n",
        "              metrics = ['accuracy'])\n",
        "\n",
        "history = model_bn.fit(X_train, y_train, \n",
        "                    batch_size = 128, epochs = 20, \n",
        "                    validation_data = (X_val, y_val))"
      ],
      "execution_count": null,
      "outputs": [
        {
          "output_type": "stream",
          "text": [
            "Epoch 1/20\n",
            "375/375 [==============================] - 2s 3ms/step - loss: 0.5124 - accuracy: 0.8614 - val_loss: 0.1347 - val_accuracy: 0.9613\n",
            "Epoch 2/20\n",
            "375/375 [==============================] - 1s 3ms/step - loss: 0.0944 - accuracy: 0.9729 - val_loss: 0.0929 - val_accuracy: 0.9744\n",
            "Epoch 3/20\n",
            "375/375 [==============================] - 1s 3ms/step - loss: 0.0518 - accuracy: 0.9846 - val_loss: 0.0886 - val_accuracy: 0.9728\n",
            "Epoch 4/20\n",
            "375/375 [==============================] - 1s 3ms/step - loss: 0.0402 - accuracy: 0.9874 - val_loss: 0.0869 - val_accuracy: 0.9755\n",
            "Epoch 5/20\n",
            "375/375 [==============================] - 1s 3ms/step - loss: 0.0255 - accuracy: 0.9923 - val_loss: 0.0848 - val_accuracy: 0.9753\n",
            "Epoch 6/20\n",
            "375/375 [==============================] - 1s 3ms/step - loss: 0.0219 - accuracy: 0.9936 - val_loss: 0.0912 - val_accuracy: 0.9742\n",
            "Epoch 7/20\n",
            "375/375 [==============================] - 1s 3ms/step - loss: 0.0167 - accuracy: 0.9954 - val_loss: 0.0972 - val_accuracy: 0.9747\n",
            "Epoch 8/20\n",
            "375/375 [==============================] - 1s 3ms/step - loss: 0.0156 - accuracy: 0.9954 - val_loss: 0.0834 - val_accuracy: 0.9797\n",
            "Epoch 9/20\n",
            "375/375 [==============================] - 1s 3ms/step - loss: 0.0115 - accuracy: 0.9964 - val_loss: 0.0980 - val_accuracy: 0.9752\n",
            "Epoch 10/20\n",
            "375/375 [==============================] - 1s 3ms/step - loss: 0.0154 - accuracy: 0.9951 - val_loss: 0.1012 - val_accuracy: 0.9750\n",
            "Epoch 11/20\n",
            "375/375 [==============================] - 1s 3ms/step - loss: 0.0129 - accuracy: 0.9957 - val_loss: 0.0986 - val_accuracy: 0.9758\n",
            "Epoch 12/20\n",
            "375/375 [==============================] - 1s 3ms/step - loss: 0.0107 - accuracy: 0.9965 - val_loss: 0.0876 - val_accuracy: 0.9771\n",
            "Epoch 13/20\n",
            "375/375 [==============================] - 1s 3ms/step - loss: 0.0108 - accuracy: 0.9963 - val_loss: 0.0885 - val_accuracy: 0.9793\n",
            "Epoch 14/20\n",
            "375/375 [==============================] - 1s 3ms/step - loss: 0.0079 - accuracy: 0.9979 - val_loss: 0.0886 - val_accuracy: 0.9806\n",
            "Epoch 15/20\n",
            "375/375 [==============================] - 1s 3ms/step - loss: 0.0060 - accuracy: 0.9980 - val_loss: 0.1079 - val_accuracy: 0.9740\n",
            "Epoch 16/20\n",
            "375/375 [==============================] - 1s 3ms/step - loss: 0.0083 - accuracy: 0.9973 - val_loss: 0.0960 - val_accuracy: 0.9771\n",
            "Epoch 17/20\n",
            "375/375 [==============================] - 1s 3ms/step - loss: 0.0129 - accuracy: 0.9953 - val_loss: 0.0961 - val_accuracy: 0.9782\n",
            "Epoch 18/20\n",
            "375/375 [==============================] - 1s 3ms/step - loss: 0.0089 - accuracy: 0.9969 - val_loss: 0.0941 - val_accuracy: 0.9791\n",
            "Epoch 19/20\n",
            "375/375 [==============================] - 1s 3ms/step - loss: 0.0080 - accuracy: 0.9973 - val_loss: 0.1065 - val_accuracy: 0.9776\n",
            "Epoch 20/20\n",
            "375/375 [==============================] - 1s 3ms/step - loss: 0.0079 - accuracy: 0.9969 - val_loss: 0.0951 - val_accuracy: 0.9784\n"
          ],
          "name": "stdout"
        }
      ]
    },
    {
      "cell_type": "code",
      "metadata": {
        "colab": {
          "base_uri": "https://localhost:8080/",
          "height": 350
        },
        "id": "BbIxQUjWTsG0",
        "outputId": "f8379b9f-c60f-445e-bf2f-8c3da8fd1d67"
      },
      "source": [
        "PlotAccuracy(history)"
      ],
      "execution_count": null,
      "outputs": [
        {
          "output_type": "display_data",
          "data": {
            "image/png": "[encoded data removed]",
            "text/plain": [
              "<Figure size 864x360 with 1 Axes>"
            ]
          },
          "metadata": {
            "tags": []
          }
        }
      ]
    },
    {
      "cell_type": "code",
      "metadata": {
        "colab": {
          "base_uri": "https://localhost:8080/",
          "height": 212
        },
        "id": "20pxglFq5MPd",
        "outputId": "1de09546-9dc8-44e5-e3ef-7ccd63d10e9c"
      },
      "source": [
        "model_lst = model_lst.append({'model':'relu+Adam+BN', 'acc':model_bn.evaluate(X_test, y_test)[1],'loss':model_bn.evaluate(X_test, y_test, verbose=0)[0]}, ignore_index=True)\n",
        "model_lst"
      ],
      "execution_count": null,
      "outputs": [
        {
          "output_type": "stream",
          "text": [
            "313/313 [==============================] - 1s 2ms/step - loss: 0.0896 - accuracy: 0.9786\n"
          ],
          "name": "stdout"
        },
        {
          "output_type": "execute_result",
          "data": {
            "text/html": [
              "<div>\n",
              "<style scoped>\n",
              "    .dataframe tbody tr th:only-of-type {\n",
              "        vertical-align: middle;\n",
              "    }\n",
              "\n",
              "    .dataframe tbody tr th {\n",
              "        vertical-align: top;\n",
              "    }\n",
              "\n",
              "    .dataframe thead th {\n",
              "        text-align: right;\n",
              "    }\n",
              "</style>\n",
              "<table border=\"1\" class=\"dataframe\">\n",
              "  <thead>\n",
              "    <tr style=\"text-align: right;\">\n",
              "      <th></th>\n",
              "      <th>model</th>\n",
              "      <th>acc</th>\n",
              "      <th>loss</th>\n",
              "    </tr>\n",
              "  </thead>\n",
              "  <tbody>\n",
              "    <tr>\n",
              "      <th>0</th>\n",
              "      <td>base</td>\n",
              "      <td>0.5260</td>\n",
              "      <td>1.627769</td>\n",
              "    </tr>\n",
              "    <tr>\n",
              "      <th>1</th>\n",
              "      <td>he_init</td>\n",
              "      <td>0.6551</td>\n",
              "      <td>1.280162</td>\n",
              "    </tr>\n",
              "    <tr>\n",
              "      <th>2</th>\n",
              "      <td>leaky_relu</td>\n",
              "      <td>0.9525</td>\n",
              "      <td>0.156011</td>\n",
              "    </tr>\n",
              "    <tr>\n",
              "      <th>3</th>\n",
              "      <td>relu+Adam</td>\n",
              "      <td>0.9802</td>\n",
              "      <td>0.105635</td>\n",
              "    </tr>\n",
              "    <tr>\n",
              "      <th>4</th>\n",
              "      <td>relu+Adam+BN</td>\n",
              "      <td>0.9786</td>\n",
              "      <td>0.089612</td>\n",
              "    </tr>\n",
              "  </tbody>\n",
              "</table>\n",
              "</div>"
            ],
            "text/plain": [
              "          model     acc      loss\n",
              "0          base  0.5260  1.627769\n",
              "1       he_init  0.6551  1.280162\n",
              "2    leaky_relu  0.9525  0.156011\n",
              "3     relu+Adam  0.9802  0.105635\n",
              "4  relu+Adam+BN  0.9786  0.089612"
            ]
          },
          "metadata": {
            "tags": []
          },
          "execution_count": 175
        }
      ]
    },
    {
      "cell_type": "markdown",
      "metadata": {
        "id": "bDKWqcFNYgmt"
      },
      "source": [
        "# 6th Model\r\n",
        "- Dropout 추가"
      ]
    },
    {
      "cell_type": "code",
      "metadata": {
        "colab": {
          "base_uri": "https://localhost:8080/"
        },
        "id": "O8AZcaVX5hJy",
        "outputId": "3b53eca0-a920-4d31-fcc9-d63612bd85b0"
      },
      "source": [
        "model_do = tf.keras.models.Sequential()\n",
        "\n",
        "model_do.add(tf.keras.layers.Dense(256, input_shape = (784, )))\n",
        "model_do.add(tf.keras.layers.BatchNormalization())\n",
        "model_do.add(tf.keras.layers.Dense(128))\n",
        "model_do.add(tf.keras.layers.BatchNormalization())\n",
        "model_do.add(tf.keras.layers.Activation('relu'))\n",
        "model_do.add(tf.keras.layers.Dropout(0.2))  \n",
        "model_do.add(tf.keras.layers.Dense(64))\n",
        "model_do.add(tf.keras.layers.BatchNormalization())\n",
        "model_do.add(tf.keras.layers.Activation('relu'))\n",
        "model_do.add(tf.keras.layers.Dropout(0.2))\n",
        "model_do.add(tf.keras.layers.Dense(10))\n",
        "model_do.add(tf.keras.layers.Activation('softmax'))\n",
        "\n",
        "model_do.compile(optimizer = tf.keras.optimizers.Adam(),\n",
        "              loss = 'categorical_crossentropy',\n",
        "              metrics = ['accuracy'])\n",
        "\n",
        "history = model_do.fit(X_train, y_train, \n",
        "                    batch_size = 128, epochs = 20, \n",
        "                    validation_data = (X_val, y_val))"
      ],
      "execution_count": null,
      "outputs": [
        {
          "output_type": "stream",
          "text": [
            "Epoch 1/20\n",
            "375/375 [==============================] - 2s 3ms/step - loss: 0.7083 - accuracy: 0.7956 - val_loss: 0.1800 - val_accuracy: 0.9476\n",
            "Epoch 2/20\n",
            "375/375 [==============================] - 1s 3ms/step - loss: 0.2240 - accuracy: 0.9353 - val_loss: 0.1342 - val_accuracy: 0.9588\n",
            "Epoch 3/20\n",
            "375/375 [==============================] - 1s 3ms/step - loss: 0.1660 - accuracy: 0.9495 - val_loss: 0.1055 - val_accuracy: 0.9671\n",
            "Epoch 4/20\n",
            "375/375 [==============================] - 1s 3ms/step - loss: 0.1359 - accuracy: 0.9585 - val_loss: 0.1052 - val_accuracy: 0.9677\n",
            "Epoch 5/20\n",
            "375/375 [==============================] - 1s 3ms/step - loss: 0.1255 - accuracy: 0.9614 - val_loss: 0.0941 - val_accuracy: 0.9718\n",
            "Epoch 6/20\n",
            "375/375 [==============================] - 1s 3ms/step - loss: 0.1135 - accuracy: 0.9652 - val_loss: 0.0871 - val_accuracy: 0.9726\n",
            "Epoch 7/20\n",
            "375/375 [==============================] - 1s 3ms/step - loss: 0.1028 - accuracy: 0.9678 - val_loss: 0.0910 - val_accuracy: 0.9718\n",
            "Epoch 8/20\n",
            "375/375 [==============================] - 1s 3ms/step - loss: 0.0959 - accuracy: 0.9700 - val_loss: 0.0836 - val_accuracy: 0.9743\n",
            "Epoch 9/20\n",
            "375/375 [==============================] - 1s 3ms/step - loss: 0.0901 - accuracy: 0.9712 - val_loss: 0.0848 - val_accuracy: 0.9747\n",
            "Epoch 10/20\n",
            "375/375 [==============================] - 1s 3ms/step - loss: 0.0843 - accuracy: 0.9731 - val_loss: 0.0826 - val_accuracy: 0.9751\n",
            "Epoch 11/20\n",
            "375/375 [==============================] - 1s 3ms/step - loss: 0.0786 - accuracy: 0.9754 - val_loss: 0.0804 - val_accuracy: 0.9755\n",
            "Epoch 12/20\n",
            "375/375 [==============================] - 1s 3ms/step - loss: 0.0743 - accuracy: 0.9761 - val_loss: 0.0778 - val_accuracy: 0.9766\n",
            "Epoch 13/20\n",
            "375/375 [==============================] - 1s 3ms/step - loss: 0.0699 - accuracy: 0.9768 - val_loss: 0.0776 - val_accuracy: 0.9772\n",
            "Epoch 14/20\n",
            "375/375 [==============================] - 1s 3ms/step - loss: 0.0652 - accuracy: 0.9782 - val_loss: 0.0757 - val_accuracy: 0.9768\n",
            "Epoch 15/20\n",
            "375/375 [==============================] - 1s 3ms/step - loss: 0.0670 - accuracy: 0.9793 - val_loss: 0.0792 - val_accuracy: 0.9782\n",
            "Epoch 16/20\n",
            "375/375 [==============================] - 1s 3ms/step - loss: 0.0611 - accuracy: 0.9801 - val_loss: 0.0750 - val_accuracy: 0.9786\n",
            "Epoch 17/20\n",
            "375/375 [==============================] - 1s 3ms/step - loss: 0.0584 - accuracy: 0.9810 - val_loss: 0.0722 - val_accuracy: 0.9779\n",
            "Epoch 18/20\n",
            "375/375 [==============================] - 1s 3ms/step - loss: 0.0588 - accuracy: 0.9801 - val_loss: 0.0722 - val_accuracy: 0.9791\n",
            "Epoch 19/20\n",
            "375/375 [==============================] - 1s 3ms/step - loss: 0.0524 - accuracy: 0.9823 - val_loss: 0.0695 - val_accuracy: 0.9797\n",
            "Epoch 20/20\n",
            "375/375 [==============================] - 1s 3ms/step - loss: 0.0587 - accuracy: 0.9815 - val_loss: 0.0777 - val_accuracy: 0.9777\n"
          ],
          "name": "stdout"
        }
      ]
    },
    {
      "cell_type": "code",
      "metadata": {
        "colab": {
          "base_uri": "https://localhost:8080/",
          "height": 350
        },
        "id": "rSMSqHRUVPVa",
        "outputId": "1d2d0e8f-df2a-4f51-f8b6-4d9bb54276c8"
      },
      "source": [
        "PlotAccuracy(history)"
      ],
      "execution_count": null,
      "outputs": [
        {
          "output_type": "display_data",
          "data": {
            "image/png": "[encoded data removed]",
            "text/plain": [
              "<Figure size 864x360 with 1 Axes>"
            ]
          },
          "metadata": {
            "tags": []
          }
        }
      ]
    },
    {
      "cell_type": "code",
      "metadata": {
        "colab": {
          "base_uri": "https://localhost:8080/",
          "height": 241
        },
        "id": "YnNG3FFI53Iq",
        "outputId": "9b54d83e-a672-41ad-b700-9e3e731c8840"
      },
      "source": [
        "model_lst = model_lst.append({'model':'relu+Adam+BN+DO', 'acc':model_do.evaluate(X_test, y_test)[1],'loss':model_do.evaluate(X_test, y_test, verbose=0)[0]}, ignore_index=True)\n",
        "model_lst"
      ],
      "execution_count": null,
      "outputs": [
        {
          "output_type": "stream",
          "text": [
            "313/313 [==============================] - 1s 2ms/step - loss: 0.0736 - accuracy: 0.9802\n"
          ],
          "name": "stdout"
        },
        {
          "output_type": "execute_result",
          "data": {
            "text/html": [
              "<div>\n",
              "<style scoped>\n",
              "    .dataframe tbody tr th:only-of-type {\n",
              "        vertical-align: middle;\n",
              "    }\n",
              "\n",
              "    .dataframe tbody tr th {\n",
              "        vertical-align: top;\n",
              "    }\n",
              "\n",
              "    .dataframe thead th {\n",
              "        text-align: right;\n",
              "    }\n",
              "</style>\n",
              "<table border=\"1\" class=\"dataframe\">\n",
              "  <thead>\n",
              "    <tr style=\"text-align: right;\">\n",
              "      <th></th>\n",
              "      <th>model</th>\n",
              "      <th>acc</th>\n",
              "      <th>loss</th>\n",
              "    </tr>\n",
              "  </thead>\n",
              "  <tbody>\n",
              "    <tr>\n",
              "      <th>0</th>\n",
              "      <td>base</td>\n",
              "      <td>0.5260</td>\n",
              "      <td>1.627769</td>\n",
              "    </tr>\n",
              "    <tr>\n",
              "      <th>1</th>\n",
              "      <td>he_init</td>\n",
              "      <td>0.6551</td>\n",
              "      <td>1.280162</td>\n",
              "    </tr>\n",
              "    <tr>\n",
              "      <th>2</th>\n",
              "      <td>leaky_relu</td>\n",
              "      <td>0.9525</td>\n",
              "      <td>0.156011</td>\n",
              "    </tr>\n",
              "    <tr>\n",
              "      <th>3</th>\n",
              "      <td>relu+Adam</td>\n",
              "      <td>0.9802</td>\n",
              "      <td>0.105635</td>\n",
              "    </tr>\n",
              "    <tr>\n",
              "      <th>4</th>\n",
              "      <td>relu+Adam+BN</td>\n",
              "      <td>0.9786</td>\n",
              "      <td>0.089612</td>\n",
              "    </tr>\n",
              "    <tr>\n",
              "      <th>5</th>\n",
              "      <td>relu+Adam+BN+DO</td>\n",
              "      <td>0.9802</td>\n",
              "      <td>0.073596</td>\n",
              "    </tr>\n",
              "  </tbody>\n",
              "</table>\n",
              "</div>"
            ],
            "text/plain": [
              "             model     acc      loss\n",
              "0             base  0.5260  1.627769\n",
              "1          he_init  0.6551  1.280162\n",
              "2       leaky_relu  0.9525  0.156011\n",
              "3        relu+Adam  0.9802  0.105635\n",
              "4     relu+Adam+BN  0.9786  0.089612\n",
              "5  relu+Adam+BN+DO  0.9802  0.073596"
            ]
          },
          "metadata": {
            "tags": []
          },
          "execution_count": 178
        }
      ]
    }
  ]
}